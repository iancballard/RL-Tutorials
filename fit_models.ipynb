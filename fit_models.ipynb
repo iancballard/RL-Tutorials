{
 "cells": [
  {
   "cell_type": "code",
   "execution_count": 1,
   "metadata": {},
   "outputs": [
    {
     "name": "stderr",
     "output_type": "stream",
     "text": [
      "/home/iballard/anaconda/lib/python2.7/site-packages/statsmodels/compat/pandas.py:56: FutureWarning: The pandas.core.datetools module is deprecated and will be removed in a future version. Please use the pandas.tseries module instead.\n",
      "  from pandas.core import datetools\n"
     ]
    }
   ],
   "source": [
    "import os\n",
    "import os.path as op\n",
    "import numpy as np\n",
    "import matplotlib\n",
    "import glob\n",
    "import matplotlib.pyplot as plt\n",
    "import pandas as pd\n",
    "from scipy import stats, optimize\n",
    "from pandas import DataFrame, Series\n",
    "import seaborn as sns\n",
    "import random as rd\n",
    "import scipy.stats\n",
    "import multiprocessing\n",
    "from scipy.optimize import basinhopping\n",
    "import random\n",
    "from scipy.stats import norm\n",
    "import statsmodels.api as sm\n",
    "from scipy.stats import beta\n",
    "from matplotlib import cm\n",
    "from ipyparallel import Client\n",
    "%matplotlib inline"
   ]
  },
  {
   "cell_type": "code",
   "execution_count": 2,
   "metadata": {
    "collapsed": true
   },
   "outputs": [],
   "source": [
    "rc = Client()"
   ]
  },
  {
   "cell_type": "markdown",
   "metadata": {},
   "source": [
    "## Bandit functions"
   ]
  },
  {
   "cell_type": "code",
   "execution_count": 3,
   "metadata": {
    "collapsed": true
   },
   "outputs": [],
   "source": [
    "#drift rewards after each step with a reflecting boundary at .25 and .75\n",
    "#This is a common feature of human and animal bandit tasks which keeps the task more engaging and encourages\n",
    "#learning through the experiment.\n",
    "def update_rewards(p_rew,rew_drift):\n",
    "    p_rew.flags.writeable = True\n",
    "    for i in range(len(p_rew)):\n",
    "        shift = np.random.normal(0,rew_drift)\n",
    "        new_p = p_rew[i] + shift \n",
    "        if (new_p > .75) or (new_p < .25): #reflecting boundaries\n",
    "            p_rew[i] = p_rew[i] - shift\n",
    "        else:\n",
    "            p_rew[i] = new_p\n",
    "    return p_rew"
   ]
  },
  {
   "cell_type": "code",
   "execution_count": 4,
   "metadata": {
    "collapsed": true
   },
   "outputs": [],
   "source": [
    "#Get the bandit probabilities over the whole simulation\n",
    "def get_reward_trajectories(p_rew,ntrials):\n",
    "    for i in range(ntrials):\n",
    "        p_rew = np.vstack((p_rew,update_rewards(p_rew[-1,:],rew_drift)))\n",
    "    return p_rew"
   ]
  },
  {
   "cell_type": "code",
   "execution_count": 5,
   "metadata": {
    "collapsed": true
   },
   "outputs": [],
   "source": [
    "#Given an action and the bandit probabilities, draw a reward according to reward probability functions\n",
    "def get_reward(p_rew,action):\n",
    "    return scipy.stats.bernoulli.rvs(p_rew[action])"
   ]
  },
  {
   "cell_type": "markdown",
   "metadata": {},
   "source": [
    "## RL functions"
   ]
  },
  {
   "cell_type": "code",
   "execution_count": 6,
   "metadata": {
    "collapsed": true
   },
   "outputs": [],
   "source": [
    "#get probability of each action under the softmax\n",
    "def get_prob(Q,m): \n",
    "    probs = map(lambda q: np.exp(q*m), Q)\n",
    "    probs = probs / np.sum(probs)\n",
    "    return probs"
   ]
  },
  {
   "cell_type": "code",
   "execution_count": 7,
   "metadata": {
    "collapsed": true
   },
   "outputs": [],
   "source": [
    "#pick an action according to softmax probs\n",
    "def get_action(Q,m):\n",
    "    choice = np.random.choice(a=range(len(Q)),p = get_prob(Q,m))   \n",
    "    \n",
    "    return choice"
   ]
  },
  {
   "cell_type": "code",
   "execution_count": 8,
   "metadata": {
    "collapsed": true
   },
   "outputs": [],
   "source": [
    "#perform rescorla-wagner update\n",
    "def update_Q(rew,action,Q,alpha):\n",
    "    delta = rew - Q[action]\n",
    "    Q[action] = Q[action] + alpha*delta\n",
    "    return Q"
   ]
  },
  {
   "cell_type": "code",
   "execution_count": 9,
   "metadata": {
    "collapsed": true
   },
   "outputs": [],
   "source": [
    "#executes each trial of the bandit\n",
    "def take_step(alpha,m,p_rew,i,Q,output):\n",
    "\n",
    "    action = get_action(Q,m) #take an action\n",
    "    rew = get_reward(p_rew[i],action)#get a reward\n",
    "    Q = update_Q(rew,action,Q,alpha) #update values\n",
    "\n",
    "    #log what's happening\n",
    "    output['rew'].append(rew)\n",
    "    output['action'].append(action)\n",
    "    output['Q'] = np.vstack([output['Q'],Q])\n",
    "\n",
    "    return Q,output"
   ]
  },
  {
   "cell_type": "code",
   "execution_count": 10,
   "metadata": {
    "collapsed": true
   },
   "outputs": [],
   "source": [
    "def run_simulation(ntrials,alpha,m,p_rew):\n",
    "    Q = [.5]*len(p_rew[-1,:]) #initialize q values to lie between 0 and 1\n",
    "    output = {'action':[],'rew':[],'Q':np.array(Q)}\n",
    "\n",
    "    for i in range(ntrials):\n",
    "        Q,output = take_step(alpha,m,p_rew,i,Q,output)\n",
    "    return Q,output"
   ]
  },
  {
   "cell_type": "markdown",
   "metadata": {},
   "source": [
    "## We now have all the ingredients to run RL on a bandit task. Let's see an example"
   ]
  },
  {
   "cell_type": "code",
   "execution_count": 11,
   "metadata": {
    "collapsed": true
   },
   "outputs": [],
   "source": [
    "#define simulation parameters\n",
    "ntrials = 1000\n",
    "nbandits= 2\n",
    "alpha = .3 #learning rate\n",
    "m= 3.0 #inverse temperature\n",
    "rew_drift = .025 #std of prob drift for each reward\n",
    "p_rew_init = np.array([.35,.65],ndmin=2) #initialize bandit\n",
    "\n",
    "#run simulations\n",
    "p_rew = get_reward_trajectories(p_rew_init,ntrials)\n",
    "Q,output = run_simulation(ntrials,alpha,m,p_rew)"
   ]
  },
  {
   "cell_type": "code",
   "execution_count": 12,
   "metadata": {},
   "outputs": [
    {
     "name": "stderr",
     "output_type": "stream",
     "text": [
      "/home/iballard/anaconda/lib/python2.7/site-packages/seaborn/timeseries.py:183: UserWarning: The tsplot function is deprecated and will be removed or replaced (in a substantially altered version) in a future release.\n",
      "  warnings.warn(msg, UserWarning)\n"
     ]
    },
    {
     "data": {
      "text/plain": [
       "<matplotlib.text.Text at 0x7f75fd2e5a50>"
      ]
     },
     "execution_count": 12,
     "metadata": {},
     "output_type": "execute_result"
    },
    {
     "name": "stderr",
     "output_type": "stream",
     "text": [
      "/home/iballard/anaconda/lib/python2.7/site-packages/matplotlib/collections.py:590: FutureWarning: elementwise comparison failed; returning scalar instead, but in the future will perform elementwise comparison\n",
      "  if self._edgecolors == str('face'):\n"
     ]
    },
    {
     "data": {
      "image/png": "[encoded data removed]",
      "text/plain": [
       "<matplotlib.figure.Figure at 0x7f75ffc1d810>"
      ]
     },
     "metadata": {},
     "output_type": "display_data"
    }
   ],
   "source": [
    "#visualize bandit probabilities\n",
    "df =pd.DataFrame({'Prob Reward':p_rew.ravel(),'Bandit':[1,2]*(ntrials+1),\n",
    "                  'Index':np.ones(len(p_rew.ravel())), 'Time':np.repeat(range(ntrials+1),nbandits)})\n",
    "sns.tsplot(data=df,value = 'Prob Reward', condition = 'Bandit',time='Time',unit = 'Index')\n",
    "plt.title('Bandit Probabilities over One Simulation Run')"
   ]
  },
  {
   "cell_type": "markdown",
   "metadata": {},
   "source": [
    "## Now fit alpha"
   ]
  },
  {
   "cell_type": "code",
   "execution_count": 300,
   "metadata": {
    "collapsed": true
   },
   "outputs": [],
   "source": [
    "#returns the log likelihood for a sequence of choices given an alpha and m\n",
    "def get_LL(params,actions,rewards,nbandits,rts = None, prior = False):\n",
    "    alpha = scipy.stats.logistic.cdf(params[0]) #bound on 0,1\n",
    "    m = scipy.stats.logistic.cdf(params[1])*10 #bound on [0,10]\n",
    "    \n",
    "    Q = [.5]*nbandits #initialize q values to lie between 0 and 1\n",
    "    LL = 0\n",
    "    Q_diffs = []\n",
    "    for n,a in enumerate(actions):\n",
    "        Q_diffs.append(sorted(Q)[-1] - sorted(Q)[-2]) #Q_value difference between best and second best option\n",
    "        prob = get_prob(Q,m)[a]\n",
    "        LL += np.log(prob)\n",
    "        Q = update_Q(rewards[n],a,Q,alpha) #update Qs\n",
    "    \n",
    "    #add likelihood of rts if they exist\n",
    "    if rts is not None:\n",
    "        LL += sm.OLS(rts, Q_diffs).fit().llf\n",
    "\n",
    "    #get prior likelihood\n",
    "    if prior:\n",
    "        log_prior = np.log(scipy.stats.beta.pdf(alpha,1.5,2))\n",
    "        log_prior += np.log(scipy.stats.beta.pdf((m-.5)/10.0,2,6))\n",
    "        LL += log_prior\n",
    "    return LL*-1"
   ]
  },
  {
   "cell_type": "code",
   "execution_count": 35,
   "metadata": {},
   "outputs": [
    {
     "name": "stdout",
     "output_type": "stream",
     "text": [
      "0.415211770954\n"
     ]
    },
    {
     "data": {
      "image/png": "[encoded data removed]",
      "text/plain": [
       "<matplotlib.figure.Figure at 0x1131d0e50>"
      ]
     },
     "metadata": {},
     "output_type": "display_data"
    }
   ],
   "source": [
    "sns.set_context('paper',font_scale = 2,rc={\"figure.figsize\": (10, 10)})\n",
    "sns.set_style({'font.family':'serif', 'font.serif':'Times New Roman'})\n",
    "\n",
    "a = scipy.stats.beta.rvs(1.5, 2, size=100000)\n",
    "sns.distplot(a)\n",
    "sns.despine()\n",
    "print np.median(a)\n",
    "plt.xlabel('Learning Rate (alpha)')\n",
    "plt.ylabel('Frequency')\n",
    "plt.savefig(op.abspath('./paper/figures/alpha.svg'),dpi = 300)"
   ]
  },
  {
   "cell_type": "code",
   "execution_count": 36,
   "metadata": {},
   "outputs": [
    {
     "name": "stdout",
     "output_type": "stream",
     "text": [
      "2.78469248745\n"
     ]
    },
    {
     "data": {
      "image/png": "[encoded data removed]",
      "text/plain": [
       "<matplotlib.figure.Figure at 0x11255e290>"
      ]
     },
     "metadata": {},
     "output_type": "display_data"
    }
   ],
   "source": [
    "sns.set_context('paper',font_scale = 2,rc={\"figure.figsize\": (10, 10)})\n",
    "sns.set_style({'font.family':'serif', 'font.serif':'Times New Roman'})\n",
    "\n",
    "\n",
    "m = scipy.stats.beta.rvs(2, 6, size=100000)*10 + .5\n",
    "sns.distplot(m)\n",
    "sns.despine()\n",
    "print np.median(m)\n",
    "plt.xlabel('Inverse Temperature (m)')\n",
    "plt.ylabel('Frequency')\n",
    "plt.savefig(op.abspath('./paper/figures/temperature.svg'),dpi = 300)"
   ]
  },
  {
   "cell_type": "code",
   "execution_count": 236,
   "metadata": {
    "collapsed": true
   },
   "outputs": [],
   "source": [
    "def simulate_cohort(in_tuple):\n",
    "    n, num_subjects, ntrials, rts, prior = in_tuple\n",
    "\n",
    "    alphas = scipy.stats.beta.rvs(1.5, 2, size=num_subjects)\n",
    "    ms = scipy.stats.beta.rvs(2, 6, size=num_subjects)*10 + .5\n",
    "    ratio = [x/y for x,y in zip(alphas,ms)]\n",
    "    \n",
    "    fits = {'alpha':[],'m':[], 'ratio':[]}\n",
    "    #loop through subjects\n",
    "    for a,m in zip(alphas,ms):\n",
    "\n",
    "        #simulate trajectory\n",
    "        p_rew = get_reward_trajectories(p_rew_init, ntrials)\n",
    "        nbandits = len(p_rew[-1,:])\n",
    "        Q,output = run_simulation(ntrials, a, m, p_rew)\n",
    "        rew = output['rew']\n",
    "        actions = output['action']\n",
    "\n",
    "        #simulate rts\n",
    "        diffs  = [sorted(row)[-1] - sorted(row)[-2] for row in output['Q']][:-1] #value difference\n",
    "        if rts:\n",
    "            rts = [x + np.random.normal(0,5*np.std(diffs)) for x in diffs] #simulated rts\n",
    "        else:\n",
    "            rts = None\n",
    "\n",
    "        #fit subject's data\n",
    "        params = (0,-1)\n",
    "        method = 'BFGS'\n",
    "        minimizer_kwargs = {\"method\": method, 'args':(actions, rew, nbandits, rts, prior)}\n",
    "        res = basinhopping(get_LL, params, minimizer_kwargs=minimizer_kwargs,niter=1)\n",
    "\n",
    "        #store fitted parameters\n",
    "        alpha = scipy.stats.logistic.cdf(res.x[0])\n",
    "        m = scipy.stats.logistic.cdf(res.x[1])*10\n",
    "        fits['alpha'].append(alpha)\n",
    "        fits['m'].append(m)\n",
    "        fits['ratio'].append(alpha/m)\n",
    "\n",
    "\n",
    "    rho,p = scipy.stats.pearsonr(alphas,fits['alpha'])\n",
    "    rho_m,p = scipy.stats.pearsonr(ms,fits['m'])\n",
    "    rho_ratio,p = scipy.stats.pearsonr(ratio,fits['ratio'])\n",
    "\n",
    "    fits['alpha_gt'] = alphas\n",
    "    fits['m_gt'] = ms\n",
    "    fits = pd.DataFrame(fits)\n",
    "    \n",
    "    #save\n",
    "    suffix = ''\n",
    "    if rts is not None:\n",
    "        suffix = suffix + 'rts_'\n",
    "    if prior:\n",
    "        suffix = suffix + 'prior_'\n",
    "    out_f = './simulations/' + '_'.join([str(n),str(ntrials),str(num_subjects)]) + '_fits_' + suffix + '.csv'\n",
    "    fits.to_csv(out_f,index = False)\n",
    "  \n",
    "    out = pd.DataFrame({'rho_alpha':rho, \n",
    "                        'rho_m':rho_m,\n",
    "                        'rho_ratio':rho_ratio,\n",
    "                        'ntrials':ntrials,\n",
    "                        'num_subs':num_subjects,}, index = [0])\n",
    "    \n",
    "    out_f = './simulations_trials_2bandits_pearson/' + '_'.join([str(n),str(ntrials),str(num_subjects)]) + '_corr_' + suffix + '.csv'\n",
    "    out.to_csv(out_f,index = False)\n",
    "    return rho"
   ]
  },
  {
   "cell_type": "code",
   "execution_count": 278,
   "metadata": {
    "collapsed": true,
    "scrolled": true
   },
   "outputs": [],
   "source": [
    "in_tuples = []\n",
    "nsubs = 25\n",
    "# ntrials = 200\n",
    "for n in range(50):\n",
    "#     for nsubs in [15, 25, 50, 100, 200]:\n",
    "    for ntrials in [100, 200, 300, 400, 500]:\n",
    "        for rts in [True, False]:\n",
    "            for prior in [True]:\n",
    "                in_tuples.append((n,nsubs,ntrials, rts, prior))"
   ]
  },
  {
   "cell_type": "code",
   "execution_count": 302,
   "metadata": {
    "scrolled": true
   },
   "outputs": [],
   "source": [
    "# dview = rc[:]\n",
    "# dview.block = True\n",
    "\n",
    "# dview.push(dict(get_LL = get_LL,\n",
    "#                 get_reward_trajectories = get_reward_trajectories,\n",
    "#                 run_simulation = run_simulation,\n",
    "#                 update_rewards = update_rewards,\n",
    "#                 get_reward = get_reward,\n",
    "#                 get_prob = get_prob,\n",
    "#                 get_action = get_action,\n",
    "#                 update_Q = update_Q,\n",
    "#                 take_step = take_step,\n",
    "#                 p_rew_init = p_rew_init,\n",
    "#                 rew_drift = rew_drift\n",
    "#                   ))\n",
    "# dview.execute(\"import numpy as np\")\n",
    "# dview.execute(\"import os.path as op\")\n",
    "# dview.execute(\"import pandas as pd\")\n",
    "# dview.execute(\"import statsmodels.api as sm\")\n",
    "# with dview.sync_imports():\n",
    "#     import os\n",
    "#     import numpy\n",
    "#     import scipy\n",
    "#     import scipy.stats\n",
    "#     from scipy.optimize import basinhopping\n",
    "# dview.map_sync(simulate_cohort,in_tuples)"
   ]
  },
  {
   "cell_type": "code",
   "execution_count": 303,
   "metadata": {
    "collapsed": true
   },
   "outputs": [],
   "source": [
    "# res = glob.glob('./simulations/*_fits*.csv')\n",
    "# fits = []\n",
    "# for f in res:\n",
    "#     sample = f.split('/')[2].split('_')[0]\n",
    "#     ntrials = f.split('/')[2].split('_')[1]\n",
    "#     nsubs = f.split('/')[2].split('_')[2]\n",
    "#     in_df = pd.read_csv(f)\n",
    "#     in_df['sample'] = sample\n",
    "#     in_df['ntrials'] = int(ntrials)\n",
    "#     in_df['nsubs'] = int(nsubs)\n",
    "#     if 'prior' in f:\n",
    "#         in_df['prior'] = 'prior' \n",
    "#     if 'rt' in f:\n",
    "#         in_df['rt'] = 'rt' \n",
    "#     fits.append(in_df)\n",
    "# fits = pd.concat(fits)"
   ]
  },
  {
   "cell_type": "code",
   "execution_count": 304,
   "metadata": {},
   "outputs": [],
   "source": [
    "res = glob.glob('./simulations_trials_2bandits_pearson/*corr*.csv')\n",
    "corr_trial = []\n",
    "for f in res:\n",
    "    sample = f.split('/')[3].split('_')[1]\n",
    "    in_df = pd.read_csv(f)\n",
    "    in_df['sample'] = sample\n",
    "    in_df['type'] = 'std'\n",
    "    if 'prior' in f:\n",
    "        in_df['type'] =  in_df['type'] + '_prior' \n",
    "    if 'rt' in f:\n",
    "        in_df['type'] = in_df['type'] + '_rt'\n",
    "    corr_trial.append(in_df)\n",
    "corr_trial = pd.concat(corr_trial).reset_index()"
   ]
  },
  {
   "cell_type": "code",
   "execution_count": 83,
   "metadata": {
    "collapsed": true
   },
   "outputs": [],
   "source": [
    "res = glob.glob('./simulations_subs_2bandits_pearson/*corr*.csv')\n",
    "corr_sub = []\n",
    "for f in res:\n",
    "    sample = f.split('/')[2].split('_')[0]\n",
    "    in_df = pd.read_csv(f)\n",
    "    in_df['sample'] = sample\n",
    "    in_df['type'] = 'std'\n",
    "    if 'prior' in f:\n",
    "        in_df['type'] =  in_df['type'] + '_prior' \n",
    "    if 'rt' in f:\n",
    "        in_df['type'] = in_df['type'] + '_rt'\n",
    "    corr_sub.append(in_df)\n",
    "corr_sub = pd.concat(corr_sub).reset_index()"
   ]
  },
  {
   "cell_type": "code",
   "execution_count": 91,
   "metadata": {
    "collapsed": true
   },
   "outputs": [],
   "source": [
    "corr_sub = corr_sub.set_index(['num_subs','type']).sort_index()\n",
    "corr_trial = corr_trial.set_index(['ntrials','type']).sort_index()"
   ]
  },
  {
   "cell_type": "code",
   "execution_count": 100,
   "metadata": {},
   "outputs": [
    {
     "name": "stdout",
     "output_type": "stream",
     "text": [
      "15 4.3920357695e-15\n",
      "25 2.01579851759e-10\n",
      "50 2.27523344488e-34\n",
      "100 2.08104677056e-61\n",
      "200 2.46740908232e-104\n"
     ]
    }
   ],
   "source": [
    "for nsubs in [15, 25, 50, 100, 200]:\n",
    "    x = corr_sub.loc[(nsubs, 'std_prior_rt'),'rho_alpha']\n",
    "    y = corr_sub.loc[(nsubs, 'std_rt'),'rho_alpha']\n",
    "    \n",
    "    print nsubs, scipy.stats.ttest_ind(x,y)[1]*10"
   ]
  },
  {
   "cell_type": "code",
   "execution_count": 99,
   "metadata": {},
   "outputs": [
    {
     "name": "stdout",
     "output_type": "stream",
     "text": [
      "100 2.58073915509e-33\n",
      "200 5.61300585916e-13\n",
      "300 4.03223762127e-07\n",
      "400 1.41518178e-10\n",
      "500 0.000798837644732\n"
     ]
    }
   ],
   "source": [
    "for ntrials in [100, 200, 300, 400, 500]:\n",
    "    x = corr_trial.loc[(ntrials, 'std_prior_rt'),'rho_alpha']\n",
    "    y = corr_trial.loc[(ntrials, 'std_rt'),'rho_alpha']\n",
    "    \n",
    "    print ntrials, scipy.stats.ttest_ind(x,y)[1]*10"
   ]
  },
  {
   "cell_type": "code",
   "execution_count": 80,
   "metadata": {},
   "outputs": [
    {
     "data": {
      "text/html": [
       "<div>\n",
       "<style>\n",
       "    .dataframe thead tr:only-child th {\n",
       "        text-align: right;\n",
       "    }\n",
       "\n",
       "    .dataframe thead th {\n",
       "        text-align: left;\n",
       "    }\n",
       "\n",
       "    .dataframe tbody tr th {\n",
       "        vertical-align: top;\n",
       "    }\n",
       "</style>\n",
       "<table border=\"1\" class=\"dataframe\">\n",
       "  <thead>\n",
       "    <tr style=\"text-align: right;\">\n",
       "      <th></th>\n",
       "      <th></th>\n",
       "      <th>level_0</th>\n",
       "      <th>index</th>\n",
       "      <th>num_subs</th>\n",
       "      <th>rho_alpha</th>\n",
       "      <th>rho_m</th>\n",
       "      <th>rho_ratio</th>\n",
       "    </tr>\n",
       "    <tr>\n",
       "      <th>ntrials</th>\n",
       "      <th>type</th>\n",
       "      <th></th>\n",
       "      <th></th>\n",
       "      <th></th>\n",
       "      <th></th>\n",
       "      <th></th>\n",
       "      <th></th>\n",
       "    </tr>\n",
       "  </thead>\n",
       "  <tbody>\n",
       "    <tr>\n",
       "      <th rowspan=\"4\" valign=\"top\">100</th>\n",
       "      <th>std</th>\n",
       "      <td>9998.169</td>\n",
       "      <td>0.0</td>\n",
       "      <td>25.0</td>\n",
       "      <td>0.663578</td>\n",
       "      <td>0.605587</td>\n",
       "      <td>0.352484</td>\n",
       "    </tr>\n",
       "    <tr>\n",
       "      <th>std_prior</th>\n",
       "      <td>10096.263</td>\n",
       "      <td>0.0</td>\n",
       "      <td>25.0</td>\n",
       "      <td>0.792925</td>\n",
       "      <td>0.783736</td>\n",
       "      <td>0.576052</td>\n",
       "    </tr>\n",
       "    <tr>\n",
       "      <th>std_prior_rt</th>\n",
       "      <td>9953.929</td>\n",
       "      <td>0.0</td>\n",
       "      <td>25.0</td>\n",
       "      <td>0.844941</td>\n",
       "      <td>0.804147</td>\n",
       "      <td>0.667072</td>\n",
       "    </tr>\n",
       "    <tr>\n",
       "      <th>std_rt</th>\n",
       "      <td>10009.678</td>\n",
       "      <td>0.0</td>\n",
       "      <td>25.0</td>\n",
       "      <td>0.791162</td>\n",
       "      <td>0.709856</td>\n",
       "      <td>0.371912</td>\n",
       "    </tr>\n",
       "    <tr>\n",
       "      <th rowspan=\"4\" valign=\"top\">200</th>\n",
       "      <th>std</th>\n",
       "      <td>9998.694</td>\n",
       "      <td>0.0</td>\n",
       "      <td>25.0</td>\n",
       "      <td>0.793440</td>\n",
       "      <td>0.768083</td>\n",
       "      <td>0.500234</td>\n",
       "    </tr>\n",
       "    <tr>\n",
       "      <th>std_prior</th>\n",
       "      <td>9896.864</td>\n",
       "      <td>0.0</td>\n",
       "      <td>25.0</td>\n",
       "      <td>0.882478</td>\n",
       "      <td>0.879511</td>\n",
       "      <td>0.724827</td>\n",
       "    </tr>\n",
       "    <tr>\n",
       "      <th>std_prior_rt</th>\n",
       "      <td>10037.496</td>\n",
       "      <td>0.0</td>\n",
       "      <td>25.0</td>\n",
       "      <td>0.918494</td>\n",
       "      <td>0.891602</td>\n",
       "      <td>0.804397</td>\n",
       "    </tr>\n",
       "    <tr>\n",
       "      <th>std_rt</th>\n",
       "      <td>10021.806</td>\n",
       "      <td>0.0</td>\n",
       "      <td>25.0</td>\n",
       "      <td>0.896820</td>\n",
       "      <td>0.844867</td>\n",
       "      <td>0.592601</td>\n",
       "    </tr>\n",
       "    <tr>\n",
       "      <th rowspan=\"4\" valign=\"top\">300</th>\n",
       "      <th>std</th>\n",
       "      <td>9993.170</td>\n",
       "      <td>0.0</td>\n",
       "      <td>25.0</td>\n",
       "      <td>0.849294</td>\n",
       "      <td>0.861272</td>\n",
       "      <td>0.591122</td>\n",
       "    </tr>\n",
       "    <tr>\n",
       "      <th>std_prior</th>\n",
       "      <td>9896.132</td>\n",
       "      <td>0.0</td>\n",
       "      <td>25.0</td>\n",
       "      <td>0.912440</td>\n",
       "      <td>0.917087</td>\n",
       "      <td>0.782025</td>\n",
       "    </tr>\n",
       "    <tr>\n",
       "      <th>std_prior_rt</th>\n",
       "      <td>10033.793</td>\n",
       "      <td>0.0</td>\n",
       "      <td>25.0</td>\n",
       "      <td>0.947251</td>\n",
       "      <td>0.927094</td>\n",
       "      <td>0.868597</td>\n",
       "    </tr>\n",
       "    <tr>\n",
       "      <th>std_rt</th>\n",
       "      <td>9969.453</td>\n",
       "      <td>0.0</td>\n",
       "      <td>25.0</td>\n",
       "      <td>0.935660</td>\n",
       "      <td>0.892107</td>\n",
       "      <td>0.727010</td>\n",
       "    </tr>\n",
       "    <tr>\n",
       "      <th rowspan=\"4\" valign=\"top\">400</th>\n",
       "      <th>std</th>\n",
       "      <td>9998.256</td>\n",
       "      <td>0.0</td>\n",
       "      <td>25.0</td>\n",
       "      <td>0.876149</td>\n",
       "      <td>0.898854</td>\n",
       "      <td>0.647873</td>\n",
       "    </tr>\n",
       "    <tr>\n",
       "      <th>std_prior</th>\n",
       "      <td>10094.900</td>\n",
       "      <td>0.0</td>\n",
       "      <td>25.0</td>\n",
       "      <td>0.935788</td>\n",
       "      <td>0.936458</td>\n",
       "      <td>0.833327</td>\n",
       "    </tr>\n",
       "    <tr>\n",
       "      <th>std_prior_rt</th>\n",
       "      <td>9957.688</td>\n",
       "      <td>0.0</td>\n",
       "      <td>25.0</td>\n",
       "      <td>0.962148</td>\n",
       "      <td>0.945568</td>\n",
       "      <td>0.897492</td>\n",
       "    </tr>\n",
       "    <tr>\n",
       "      <th>std_rt</th>\n",
       "      <td>10011.815</td>\n",
       "      <td>0.0</td>\n",
       "      <td>25.0</td>\n",
       "      <td>0.947873</td>\n",
       "      <td>0.907747</td>\n",
       "      <td>0.785582</td>\n",
       "    </tr>\n",
       "    <tr>\n",
       "      <th rowspan=\"4\" valign=\"top\">500</th>\n",
       "      <th>std</th>\n",
       "      <td>9992.985</td>\n",
       "      <td>0.0</td>\n",
       "      <td>25.0</td>\n",
       "      <td>0.897833</td>\n",
       "      <td>0.921187</td>\n",
       "      <td>0.690790</td>\n",
       "    </tr>\n",
       "    <tr>\n",
       "      <th>std_prior</th>\n",
       "      <td>10095.818</td>\n",
       "      <td>0.0</td>\n",
       "      <td>25.0</td>\n",
       "      <td>0.947465</td>\n",
       "      <td>0.949127</td>\n",
       "      <td>0.863093</td>\n",
       "    </tr>\n",
       "    <tr>\n",
       "      <th>std_prior_rt</th>\n",
       "      <td>9953.746</td>\n",
       "      <td>0.0</td>\n",
       "      <td>25.0</td>\n",
       "      <td>0.968445</td>\n",
       "      <td>0.955024</td>\n",
       "      <td>0.909628</td>\n",
       "    </tr>\n",
       "    <tr>\n",
       "      <th>std_rt</th>\n",
       "      <td>9979.345</td>\n",
       "      <td>0.0</td>\n",
       "      <td>25.0</td>\n",
       "      <td>0.961693</td>\n",
       "      <td>0.920914</td>\n",
       "      <td>0.834758</td>\n",
       "    </tr>\n",
       "  </tbody>\n",
       "</table>\n",
       "</div>"
      ],
      "text/plain": [
       "                        level_0  index  num_subs  rho_alpha     rho_m  \\\n",
       "ntrials type                                                            \n",
       "100     std            9998.169    0.0      25.0   0.663578  0.605587   \n",
       "        std_prior     10096.263    0.0      25.0   0.792925  0.783736   \n",
       "        std_prior_rt   9953.929    0.0      25.0   0.844941  0.804147   \n",
       "        std_rt        10009.678    0.0      25.0   0.791162  0.709856   \n",
       "200     std            9998.694    0.0      25.0   0.793440  0.768083   \n",
       "        std_prior      9896.864    0.0      25.0   0.882478  0.879511   \n",
       "        std_prior_rt  10037.496    0.0      25.0   0.918494  0.891602   \n",
       "        std_rt        10021.806    0.0      25.0   0.896820  0.844867   \n",
       "300     std            9993.170    0.0      25.0   0.849294  0.861272   \n",
       "        std_prior      9896.132    0.0      25.0   0.912440  0.917087   \n",
       "        std_prior_rt  10033.793    0.0      25.0   0.947251  0.927094   \n",
       "        std_rt         9969.453    0.0      25.0   0.935660  0.892107   \n",
       "400     std            9998.256    0.0      25.0   0.876149  0.898854   \n",
       "        std_prior     10094.900    0.0      25.0   0.935788  0.936458   \n",
       "        std_prior_rt   9957.688    0.0      25.0   0.962148  0.945568   \n",
       "        std_rt        10011.815    0.0      25.0   0.947873  0.907747   \n",
       "500     std            9992.985    0.0      25.0   0.897833  0.921187   \n",
       "        std_prior     10095.818    0.0      25.0   0.947465  0.949127   \n",
       "        std_prior_rt   9953.746    0.0      25.0   0.968445  0.955024   \n",
       "        std_rt         9979.345    0.0      25.0   0.961693  0.920914   \n",
       "\n",
       "                      rho_ratio  \n",
       "ntrials type                     \n",
       "100     std            0.352484  \n",
       "        std_prior      0.576052  \n",
       "        std_prior_rt   0.667072  \n",
       "        std_rt         0.371912  \n",
       "200     std            0.500234  \n",
       "        std_prior      0.724827  \n",
       "        std_prior_rt   0.804397  \n",
       "        std_rt         0.592601  \n",
       "300     std            0.591122  \n",
       "        std_prior      0.782025  \n",
       "        std_prior_rt   0.868597  \n",
       "        std_rt         0.727010  \n",
       "400     std            0.647873  \n",
       "        std_prior      0.833327  \n",
       "        std_prior_rt   0.897492  \n",
       "        std_rt         0.785582  \n",
       "500     std            0.690790  \n",
       "        std_prior      0.863093  \n",
       "        std_prior_rt   0.909628  \n",
       "        std_rt         0.834758  "
      ]
     },
     "execution_count": 80,
     "metadata": {},
     "output_type": "execute_result"
    }
   ],
   "source": [
    "corr.groupby(['ntrials','type']).mean()"
   ]
  },
  {
   "cell_type": "code",
   "execution_count": 305,
   "metadata": {},
   "outputs": [
    {
     "data": {
      "text/html": [
       "<div>\n",
       "<style>\n",
       "    .dataframe thead tr:only-child th {\n",
       "        text-align: right;\n",
       "    }\n",
       "\n",
       "    .dataframe thead th {\n",
       "        text-align: left;\n",
       "    }\n",
       "\n",
       "    .dataframe tbody tr th {\n",
       "        vertical-align: top;\n",
       "    }\n",
       "</style>\n",
       "<table border=\"1\" class=\"dataframe\">\n",
       "  <thead>\n",
       "    <tr style=\"text-align: right;\">\n",
       "      <th></th>\n",
       "      <th></th>\n",
       "      <th>index</th>\n",
       "      <th>num_subs</th>\n",
       "      <th>rho_alpha</th>\n",
       "      <th>rho_m</th>\n",
       "      <th>rho_ratio</th>\n",
       "    </tr>\n",
       "    <tr>\n",
       "      <th>ntrials</th>\n",
       "      <th>type</th>\n",
       "      <th></th>\n",
       "      <th></th>\n",
       "      <th></th>\n",
       "      <th></th>\n",
       "      <th></th>\n",
       "    </tr>\n",
       "  </thead>\n",
       "  <tbody>\n",
       "    <tr>\n",
       "      <th rowspan=\"2\" valign=\"top\">100</th>\n",
       "      <th>std_prior</th>\n",
       "      <td>0</td>\n",
       "      <td>25</td>\n",
       "      <td>0.754109</td>\n",
       "      <td>0.793206</td>\n",
       "      <td>0.461669</td>\n",
       "    </tr>\n",
       "    <tr>\n",
       "      <th>std_prior_rt</th>\n",
       "      <td>0</td>\n",
       "      <td>25</td>\n",
       "      <td>0.823427</td>\n",
       "      <td>0.793670</td>\n",
       "      <td>0.601222</td>\n",
       "    </tr>\n",
       "    <tr>\n",
       "      <th rowspan=\"2\" valign=\"top\">200</th>\n",
       "      <th>std_prior</th>\n",
       "      <td>0</td>\n",
       "      <td>25</td>\n",
       "      <td>0.850090</td>\n",
       "      <td>0.879906</td>\n",
       "      <td>0.655869</td>\n",
       "    </tr>\n",
       "    <tr>\n",
       "      <th>std_prior_rt</th>\n",
       "      <td>0</td>\n",
       "      <td>25</td>\n",
       "      <td>0.909791</td>\n",
       "      <td>0.893974</td>\n",
       "      <td>0.799258</td>\n",
       "    </tr>\n",
       "    <tr>\n",
       "      <th rowspan=\"2\" valign=\"top\">300</th>\n",
       "      <th>std_prior</th>\n",
       "      <td>0</td>\n",
       "      <td>25</td>\n",
       "      <td>0.875362</td>\n",
       "      <td>0.910906</td>\n",
       "      <td>0.699812</td>\n",
       "    </tr>\n",
       "    <tr>\n",
       "      <th>std_prior_rt</th>\n",
       "      <td>0</td>\n",
       "      <td>25</td>\n",
       "      <td>0.941710</td>\n",
       "      <td>0.930505</td>\n",
       "      <td>0.862436</td>\n",
       "    </tr>\n",
       "  </tbody>\n",
       "</table>\n",
       "</div>"
      ],
      "text/plain": [
       "                      index  num_subs  rho_alpha     rho_m  rho_ratio\n",
       "ntrials type                                                         \n",
       "100     std_prior         0        25   0.754109  0.793206   0.461669\n",
       "        std_prior_rt      0        25   0.823427  0.793670   0.601222\n",
       "200     std_prior         0        25   0.850090  0.879906   0.655869\n",
       "        std_prior_rt      0        25   0.909791  0.893974   0.799258\n",
       "300     std_prior         0        25   0.875362  0.910906   0.699812\n",
       "        std_prior_rt      0        25   0.941710  0.930505   0.862436"
      ]
     },
     "execution_count": 305,
     "metadata": {},
     "output_type": "execute_result"
    }
   ],
   "source": [
    "corr_trial.groupby(['ntrials','type']).mean()"
   ]
  },
  {
   "cell_type": "code",
   "execution_count": 327,
   "metadata": {
    "collapsed": true
   },
   "outputs": [],
   "source": [
    "#rename\n",
    "cond_map = {'std_prior': 'Bayesian Prior', 'std': 'Standard Fit',\n",
    "            'std_rt': \"Reaction Time\",'std_prior_rt': 'Prior and Reaction Time' }\n",
    "corr['condition'] = [cond_map[x] for x in corr['type']]\n",
    "\n",
    "#reorder\n",
    "cond_map = {'Bayesian Prior': 3,\n",
    "            'Standard Fit': 4,\n",
    "            \"Reaction Time\": 2,\n",
    "            'Prior and Reaction Time': 1}\n",
    "\n",
    "s = pd.DataFrame({'condition':corr['condition'].values})\n",
    "corr['sort_index'] =  s['condition'].apply(lambda x: cond_map[x])\n",
    "\n",
    "corr = corr.sort_values(by = ['sort_index']).reset_index()\n"
   ]
  },
  {
   "cell_type": "code",
   "execution_count": null,
   "metadata": {
    "collapsed": true
   },
   "outputs": [],
   "source": []
  },
  {
   "cell_type": "code",
   "execution_count": 334,
   "metadata": {},
   "outputs": [
    {
     "data": {
      "image/png": "[encoded data removed]",
      "text/plain": [
       "<matplotlib.figure.Figure at 0x7f1e57952d50>"
      ]
     },
     "metadata": {},
     "output_type": "display_data"
    }
   ],
   "source": [
    "sns.set_context(context = 'paper', font_scale = 2)\n",
    "corr = corr.sort_index()\n",
    "sns.tsplot(time = 'num_subs',\n",
    "           value = 'rho_alpha',\n",
    "           condition = 'condition',\n",
    "           unit = 'sample',\n",
    "           data = corr)\n",
    "sns.despine()\n",
    "plt.ylabel('Pearson Correlation')\n",
    "plt.xlabel('Number of Subjects')\n",
    "plt.legend(bbox_to_anchor=(1, .5), loc=2, borderaxespad=0.)\n",
    "plt.savefig('./fits_10000samples_subs_2bandits.svg', dpi = 300)"
   ]
  },
  {
   "cell_type": "code",
   "execution_count": 311,
   "metadata": {},
   "outputs": [
    {
     "data": {
      "image/png": "[encoded data removed]",
      "text/plain": [
       "<matplotlib.figure.Figure at 0x7f1e5dc41cd0>"
      ]
     },
     "metadata": {},
     "output_type": "display_data"
    }
   ],
   "source": [
    "sns.set_context(context = 'paper', font_scale = 2)\n",
    "corr = corr.sort_index()\n",
    "sns.tsplot(time = 'ntrials',\n",
    "           value = 'rho_alpha',\n",
    "           condition = 'condition',\n",
    "           unit = 'sample',\n",
    "           data = corr)\n",
    "sns.despine()\n",
    "plt.ylabel('Pearson Correlation')\n",
    "plt.xlabel('Number of Trials')\n",
    "plt.legend(bbox_to_anchor=(.6, .5), loc=2, borderaxespad=0.)\n",
    "plt.savefig('./fits_10000samples_trials_2bandits.svg', dpi = 300)"
   ]
  },
  {
   "cell_type": "markdown",
   "metadata": {
    "collapsed": true
   },
   "source": [
    "# Assess the effect of RT on TD parameter identifiability"
   ]
  },
  {
   "cell_type": "code",
   "execution_count": 307,
   "metadata": {
    "collapsed": true
   },
   "outputs": [],
   "source": [
    "def flip(p):\n",
    "    return 'SS' if rd.random() < p else 'LL'"
   ]
  },
  {
   "cell_type": "code",
   "execution_count": 308,
   "metadata": {
    "collapsed": true
   },
   "outputs": [],
   "source": [
    "def hyperbolic(A,d,k):\n",
    "    return A * 1.0/(1.0+k*d)"
   ]
  },
  {
   "cell_type": "code",
   "execution_count": 309,
   "metadata": {
    "collapsed": true
   },
   "outputs": [],
   "source": [
    "def run_simulation(params,sub_df):\n",
    "    k,m = params\n",
    "    choices = []\n",
    "    SV_SSs = []\n",
    "    SV_LLs = []\n",
    "    for i in range(sub_df.shape[0]):\n",
    "        SV_SS = hyperbolic(sub_df.loc[i,'amountSS'],\n",
    "                            sub_df.loc[i,'delaySS'],\n",
    "                            k)\n",
    "        SV_LL = hyperbolic(sub_df.loc[i,'amountLL'],\n",
    "                            sub_df.loc[i,'delayLL'],\n",
    "                            k)\n",
    "        SV_SSs.append(SV_SS)\n",
    "        SV_LLs.append(SV_LL)\n",
    "        p = 1 / (1 + np.exp(-1*m*(SV_SS-SV_LL)) )\n",
    "        choices.append(flip(p))\n",
    "        \n",
    "    return choices, SV_SSs, SV_LLs"
   ]
  },
  {
   "cell_type": "code",
   "execution_count": 310,
   "metadata": {
    "collapsed": true
   },
   "outputs": [],
   "source": [
    "def get_LL(params,sub_df, rts = None, prior = False):\n",
    "    k = scipy.stats.logistic.cdf(params[0]) #bound on 0,1\n",
    "    m = scipy.stats.logistic.cdf(params[1])*10 #bound on [0,10]\n",
    "    \n",
    "    LL = 0\n",
    "    SV_SSs = []\n",
    "    SV_LLs = []\n",
    "    for i in range(sub_df.shape[0]):\n",
    "        SV_SS = hyperbolic(sub_df.loc[i,'amountSS'],\n",
    "                            sub_df.loc[i,'delaySS'],\n",
    "                            k)\n",
    "        SV_LL = hyperbolic(sub_df.loc[i,'amountLL'],\n",
    "                            sub_df.loc[i,'delayLL'],\n",
    "                            k)\n",
    "        SV_SSs.append(SV_SS)\n",
    "        SV_LLs.append(SV_LL)\n",
    "        p = 1 / (1 + np.exp(-1*m*(SV_SS-SV_LL)) )\n",
    "\n",
    "        if sub_df.loc[i,'choices'] == 'LL':\n",
    "            p = 1-p\n",
    "        if p < 1e-100:\n",
    "            p = 1e-100\n",
    "        \n",
    "        LL += np.log(p)\n",
    "\n",
    "    #add likelihood of rts if they exist\n",
    "    if rts is not None:\n",
    "        diffs = abs(np.array(SV_SSs) - np.array(SV_LLs))\n",
    "        diffs = diffs/np.std(diffs) #normalize\n",
    "        LL += sm.OLS(rts, diffs).fit().llf\n",
    "        \n",
    "    #get prior likelihood\n",
    "    if prior:\n",
    "        log_prior = np.log(scipy.stats.norm.pdf(np.log(k),-4.5,.9))\n",
    "        log_prior += np.log(scipy.stats.beta.pdf((m-.5)/10.0,2,6))\n",
    "        LL += log_prior\n",
    "        \n",
    "    return -1*LL\n"
   ]
  },
  {
   "cell_type": "code",
   "execution_count": 311,
   "metadata": {
    "collapsed": true
   },
   "outputs": [],
   "source": [
    "def gen_data(ntrials):\n",
    "    #generate some choices\n",
    "    k_eqs = np.random.normal(-4.5,.9,ntrials)\n",
    "    k_eqs = [np.exp(x) for x in k_eqs]\n",
    "    a_ss = [10, 20, 30]\n",
    "    d_ss = [0, 14, 28]\n",
    "    d_ll = [14, 28, 42]\n",
    "\n",
    "    data = {'amountSS':[], 'amountLL':[],'delaySS':[], 'delayLL':[], 'k_eq':[]}\n",
    "    for k in k_eqs:\n",
    "        SS = np.random.choice(a_ss)\n",
    "        dSS = np.random.choice(d_ss)\n",
    "        dLL = 0\n",
    "        while dLL <= dSS:\n",
    "            dLL = np.random.choice(d_ll)\n",
    "\n",
    "        LL = (SS * 1.0/ (1 + k*dSS)) * (1 + k*dLL)\n",
    "\n",
    "        data['amountSS'].append(SS)\n",
    "        data['amountLL'].append(LL)\n",
    "        data['delaySS'].append(dSS)\n",
    "        data['delayLL'].append(dLL)\n",
    "        data['k_eq'].append(k)\n",
    "    data = pd.DataFrame(data)\n",
    "    return data"
   ]
  },
  {
   "cell_type": "code",
   "execution_count": 315,
   "metadata": {
    "collapsed": true
   },
   "outputs": [],
   "source": [
    "def simulate_cohort_dd(in_tuple):\n",
    "    n, num_subjects, ntrials, rts, prior = in_tuple\n",
    "\n",
    "    ks = np.random.normal(-4.5, .9, size=num_subjects)\n",
    "    ks = [np.exp(x) for x in ks]\n",
    "    ms = scipy.stats.beta.rvs(2, 6, size=num_subjects)*10 + .5\n",
    "    ratio = [x/y for x,y in zip(ks,ms)]\n",
    "    \n",
    "    fits = {'k':[],'m':[], 'ratio':[]}\n",
    "    #loop through subjects\n",
    "    for k,m in zip(ks,ms):\n",
    "\n",
    "        #simulate trajectory\n",
    "        data = gen_data(ntrials)\n",
    "        data['choices'], data['SV_SS'], data['SV_LL'] = run_simulation((k,m),data)\n",
    "\n",
    "\n",
    "        #simulate rts\n",
    "        diffs = abs(data['SV_SS'] - data['SV_LL'])\n",
    "        diffs = diffs/np.std(diffs) #normalize\n",
    "        if rts:\n",
    "            rts = [x + np.random.normal(0,5*np.std(diffs)) for x in diffs] #simulated rts\n",
    "        else:\n",
    "            rts = None\n",
    "\n",
    "        #fit subject's data\n",
    "        params = (-4.5,-1)\n",
    "        method = 'BFGS'\n",
    "        minimizer_kwargs = {\"method\": method, 'args':(data, rts, prior)}\n",
    "        res = basinhopping(get_LL, params, minimizer_kwargs=minimizer_kwargs,niter=1)\n",
    "        \n",
    "        #store fitted parameters\n",
    "        k = scipy.stats.logistic.cdf(res.x[0])\n",
    "        if k < min(data['k_eq']):\n",
    "            k = min(data['k_eq'])\n",
    "        if k >  max(data['k_eq']):\n",
    "            k = max(data['k_eq'])\n",
    "                    \n",
    "        m = scipy.stats.logistic.cdf(res.x[1])*10\n",
    "        fits['k'].append(k)\n",
    "        fits['m'].append(m)\n",
    "        fits['ratio'].append(k/m)\n",
    "\n",
    "\n",
    "    rho,p = scipy.stats.pearsonr(ks,fits['k'])\n",
    "    rho_m,p = scipy.stats.pearsonr(ms,fits['m'])\n",
    "    rho_ratio,p = scipy.stats.pearsonr(ratio,fits['ratio'])\n",
    "\n",
    "    fits['k_gt'] = ks\n",
    "    fits['m_gt'] = ms\n",
    "    fits = pd.DataFrame(fits)\n",
    "    \n",
    "    #save\n",
    "    suffix = ''\n",
    "    if rts is not None:\n",
    "        suffix = suffix + 'rts_'\n",
    "    if prior:\n",
    "        suffix = suffix + 'prior_'\n",
    "    out_f = './simulations/DD/noint_' + '_'.join([str(n),str(ntrials),str(num_subjects)]) + '_fits_' + suffix + '.csv'\n",
    "    fits.to_csv(out_f,index = False)\n",
    "  \n",
    "    out = pd.DataFrame({'rho_k':rho, \n",
    "                        'rho_m':rho_m,\n",
    "                        'rho_ratio':rho_ratio,\n",
    "                        'ntrials':ntrials,\n",
    "                        'num_subs':num_subjects,}, index = [0])\n",
    "    \n",
    "    out_f = './simulations/DD/' + '_'.join([str(n),str(ntrials),str(num_subjects)]) + '_corr_' + suffix + '.csv'\n",
    "    out.to_csv(out_f,index = False)\n",
    "    return res"
   ]
  },
  {
   "cell_type": "code",
   "execution_count": 316,
   "metadata": {
    "collapsed": true
   },
   "outputs": [],
   "source": [
    "in_tuples = []\n",
    "nsubs = 25\n",
    "for n in range(1000):\n",
    "    for ntrials in [100, 200, 300, 400, 500]:\n",
    "        for rts in [True]:\n",
    "            for prior in [True,False]:\n",
    "                in_tuples.append((n,nsubs,ntrials, rts, prior))"
   ]
  },
  {
   "cell_type": "code",
   "execution_count": 319,
   "metadata": {},
   "outputs": [],
   "source": [
    "# dview = rc[:]\n",
    "# dview.block = True\n",
    "\n",
    "# dview.push(dict(get_LL = get_LL,\n",
    "#                 flip = flip,\n",
    "#                 run_simulation = run_simulation,\n",
    "#                 hyperbolic = hyperbolic,\n",
    "#                 gen_data = gen_data,\n",
    "#                   ))\n",
    "# dview.execute(\"import numpy as np\")\n",
    "# dview.execute(\"import os.path as op\")\n",
    "# dview.execute(\"import pandas as pd\")\n",
    "# dview.execute(\"import random as rd\")\n",
    "# dview.execute(\"import statsmodels.api as sm\")\n",
    "# with dview.sync_imports():\n",
    "#     import os\n",
    "#     import numpy\n",
    "#     import scipy\n",
    "#     import scipy.stats\n",
    "#     from scipy.optimize import basinhopping\n",
    "# dview.map_sync(simulate_cohort_dd,in_tuples)"
   ]
  },
  {
   "cell_type": "code",
   "execution_count": 65,
   "metadata": {},
   "outputs": [],
   "source": [
    "res = glob.glob('./simulations/DD/*25_corr*.csv')\n",
    "corr_sub = []\n",
    "for f in res:\n",
    "    sample = f.split('/')[3].split('_')[0]\n",
    "    in_df = pd.read_csv(f)\n",
    "    in_df['sample'] = int(sample)\n",
    "    in_df['type'] = 'std'\n",
    "    if 'prior' in f:ac\n",
    "        in_df['type'] =  in_df['type'] + '_prior' \n",
    "    if 'rt' in f:\n",
    "        in_df['type'] = in_df['type'] + '_rt'\n",
    "    corr_sub.append(in_df)\n",
    "corr = pd.concat(corr_sub).reset_index()"
   ]
  },
  {
   "cell_type": "code",
   "execution_count": 67,
   "metadata": {},
   "outputs": [
    {
     "data": {
      "text/plain": [
       "<matplotlib.legend.Legend at 0x7f063b786550>"
      ]
     },
     "execution_count": 67,
     "metadata": {},
     "output_type": "execute_result"
    },
    {
     "data": {
      "image/png": "[encoded data removed]",
      "text/plain": [
       "<matplotlib.figure.Figure at 0x7f0658fc5810>"
      ]
     },
     "metadata": {},
     "output_type": "display_data"
    }
   ],
   "source": [
    "sns.set_context(context = 'paper', font_scale = 2)\n",
    "corr = corr.sort_index()\n",
    "sns.tsplot(time = 'ntrials',\n",
    "           value = 'rho_k',\n",
    "           condition = 'type',\n",
    "           unit = 'sample',\n",
    "           data = corr)\n",
    "sns.despine()\n",
    "plt.ylabel('Pearson Correlation')\n",
    "plt.xlabel('Number of Subjects')\n",
    "plt.legend(bbox_to_anchor=(1, .5), loc=2, borderaxespad=0.)\n",
    "# plt.savefig('./fits_10000samples_subs_2bandits.svg', dpi = 300)"
   ]
  },
  {
   "cell_type": "code",
   "execution_count": null,
   "metadata": {},
   "outputs": [],
   "source": []
  },
  {
   "cell_type": "code",
   "execution_count": null,
   "metadata": {
    "collapsed": true
   },
   "outputs": [],
   "source": []
  },
  {
   "cell_type": "code",
   "execution_count": null,
   "metadata": {
    "collapsed": true
   },
   "outputs": [],
   "source": []
  },
  {
   "cell_type": "code",
   "execution_count": null,
   "metadata": {
    "collapsed": true
   },
   "outputs": [],
   "source": []
  },
  {
   "cell_type": "code",
   "execution_count": null,
   "metadata": {
    "collapsed": true
   },
   "outputs": [],
   "source": []
  },
  {
   "cell_type": "code",
   "execution_count": null,
   "metadata": {
    "collapsed": true
   },
   "outputs": [],
   "source": []
  }
 ],
 "metadata": {
  "kernelspec": {
   "display_name": "Python 2",
   "language": "python",
   "name": "python2"
  },
  "language_info": {
   "codemirror_mode": {
    "name": "ipython",
    "version": 2
   },
   "file_extension": ".py",
   "mimetype": "text/x-python",
   "name": "python",
   "nbconvert_exporter": "python",
   "pygments_lexer": "ipython2",
   "version": "2.7.13"
  }
 },
 "nbformat": 4,
 "nbformat_minor": 2
}
