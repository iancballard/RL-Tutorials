{
 "cells": [
  {
   "cell_type": "code",
   "execution_count": 1,
   "metadata": {},
   "outputs": [
    {
     "name": "stderr",
     "output_type": "stream",
     "text": [
      "//anaconda/lib/python2.7/site-packages/statsmodels/compat/pandas.py:56: FutureWarning: The pandas.core.datetools module is deprecated and will be removed in a future version. Please use the pandas.tseries module instead.\n",
      "  from pandas.core import datetools\n"
     ]
    }
   ],
   "source": [
    "import os\n",
    "import os.path as op\n",
    "import numpy as np\n",
    "import matplotlib\n",
    "import matplotlib.pyplot as plt\n",
    "import pandas as pd\n",
    "import glob\n",
    "import patsy\n",
    "from scipy import stats, optimize\n",
    "from pandas import DataFrame, Series\n",
    "import seaborn as sns\n",
    "import statsmodels.api as sm\n",
    "import random as rd\n",
    "import scipy.io as sio\n",
    "import scipy.stats\n",
    "from scipy.optimize import minimize\n",
    "import multiprocessing\n",
    "import random\n",
    "import pickle\n",
    "from scipy.stats import norm\n",
    "from scipy.stats import beta\n",
    "import math\n",
    "from ipyparallel import Client\n",
    "%matplotlib inline"
   ]
  },
  {
   "cell_type": "code",
   "execution_count": 12,
   "metadata": {
    "collapsed": true
   },
   "outputs": [],
   "source": [
    "rc = Client()"
   ]
  },
  {
   "cell_type": "code",
   "execution_count": 3,
   "metadata": {
    "collapsed": true
   },
   "outputs": [],
   "source": [
    "def llrt_null(LL,num_choices,param_diff):\n",
    "    diff = 2*(LL - np.log(.2)*num_choices)\n",
    "    return scipy.stats.chi2.sf(diff, param_diff)"
   ]
  },
  {
   "cell_type": "code",
   "execution_count": 4,
   "metadata": {
    "collapsed": true
   },
   "outputs": [],
   "source": [
    "#get probability of each action under the softmax\n",
    "def get_prob(Q,m): \n",
    "    probs = map(lambda q: np.exp(q*m), Q)\n",
    "    probs = probs / np.sum(probs)\n",
    "    return probs"
   ]
  },
  {
   "cell_type": "code",
   "execution_count": 5,
   "metadata": {
    "collapsed": true
   },
   "outputs": [],
   "source": [
    "#perform rescorla-wagner update\n",
    "def update_Q(rew,action,Q,alpha):\n",
    "    delta = rew - Q[action]\n",
    "    Q[action] = Q[action] + alpha*delta\n",
    "\n",
    "    return Q"
   ]
  },
  {
   "cell_type": "code",
   "execution_count": 6,
   "metadata": {
    "collapsed": true
   },
   "outputs": [],
   "source": [
    "#Q values are slowly forgotten\n",
    "def decay_Q(Q,decay,action):\n",
    "    decays = np.zeros(len(Q)) + decay\n",
    "    decays[action] = 1\n",
    "    Q = np.array(Q) * decays\n",
    "    return Q"
   ]
  },
  {
   "cell_type": "code",
   "execution_count": 2,
   "metadata": {},
   "outputs": [],
   "source": [
    "data_dir = op.abspath('../wimmer_jneuro/')\n",
    "fnames = ['jneuro14_scan_ctrlbandit.mat','jneuro14_scan_membandit.mat', 'jneuro14_behav_behrldata.mat']\n",
    "codes = ['scan_ctrl','scan_mem', 'behav_mem']\n",
    "data = {'sub':[], 'outcome':[],'action':[],'RT':[],'code':[]}\n",
    "\n",
    "for f,code in zip(fnames,codes):\n",
    "    a = scipy.io.loadmat(data_dir +'/' + f)\n",
    "    nsubs = a['ch'].shape[1]\n",
    "\n",
    "    for i in range(nsubs):\n",
    "        choices = map(lambda x: int(x) - 1,a['ch'][0][i])\n",
    "        data['action'].extend(choices)\n",
    "        data['outcome'].extend(map(int,a['rew'][0][i]))\n",
    "        data['RT'].extend(map(float,a['rt'][0][i]))\n",
    "        data['sub'].extend([int(i)]*len(choices))\n",
    "        data['code'].extend([code]*len(choices))    \n",
    "data = pd.DataFrame(data)\n",
    "data = data[data['RT'] > 0]\n",
    "data = data[data['action'] >= 0]\n",
    "data = data.set_index(['sub','code'])"
   ]
  },
  {
   "cell_type": "code",
   "execution_count": 8,
   "metadata": {},
   "outputs": [
    {
     "name": "stderr",
     "output_type": "stream",
     "text": [
      "/anaconda/lib/python2.7/site-packages/ipykernel_launcher.py:59: PerformanceWarning: indexing past lexsort depth may impact performance.\n",
      "//anaconda/lib/python2.7/site-packages/pandas/core/indexing.py:1325: PerformanceWarning: indexing past lexsort depth may impact performance.\n",
      "  return self._getitem_tuple(key)\n"
     ]
    },
    {
     "data": {
      "text/plain": [
       "220.15822255850611"
      ]
     },
     "execution_count": 8,
     "metadata": {},
     "output_type": "execute_result"
    }
   ],
   "source": [
    "#returns the log likelihood for a sequence of choices given an alpha and m\n",
    "def get_LL(params, sub_data, nbandits, rts = None, prior = False, return_trial_liks = False):\n",
    "    alpha = scipy.stats.logistic.cdf(params[0]) #bound on 0,1\n",
    "    m = scipy.stats.logistic.cdf(params[1])*50 #bound on [0,50]\n",
    "    \n",
    "    \n",
    "    actions = sub_data['action'].values\n",
    "    rewards = sub_data['outcome'].values\n",
    "    \n",
    "    Q = [.5]*nbandits #initialize q values to lie between 0 and 1\n",
    "    LL = 0\n",
    "    Q_diffs = []\n",
    "    trial_likelihoods = []\n",
    "    chose_max = []\n",
    "    for n,a in enumerate(actions):\n",
    "        Q_diffs.append(sorted(Q)[-1] - sorted(Q)[-2]) #Q_value difference between best and second best option\n",
    "        prob = get_prob(Q,m)[a]\n",
    "        LL += np.log(prob)\n",
    "        trial_likelihoods.append(prob)\n",
    "        Q = update_Q(rewards[n],a,Q,alpha) #update Qs\n",
    "        \n",
    "        #track whether chose max value\n",
    "        if Q.index(max(Q)) == a:\n",
    "            chose_max.append(1)\n",
    "        else:\n",
    "            chose_max.append(0)\n",
    "\n",
    "    #add likelihood of rts if they exist\n",
    "    if rts is not None:\n",
    "        #take log RT\n",
    "        rts = map(np.log,np.array(rts))\n",
    "        rts = rts - np.mean(rts)\n",
    "        \n",
    "        #compute Q-diff\n",
    "        Q_diffs = np.array(Q_diffs)\n",
    "        Q_diffs = Q_diffs - np.mean(Q_diffs)\n",
    "        \n",
    "        #account for speeding over time\n",
    "        time = np.arange(len(rts))\n",
    "        time = time - np.mean(time)\n",
    "        \n",
    "        #account for errors/exploration\n",
    "        chose_max = chose_max - np.mean(chose_max)\n",
    "        \n",
    "        #perform regression\n",
    "        X = np.array([Q_diffs, Q_diffs**2, time, chose_max]).T\n",
    "        LL += sm.OLS(rts, X).fit().llf\n",
    "\n",
    "        \n",
    "    #get prior likelihood\n",
    "    if prior:\n",
    "        log_prior = np.log(scipy.stats.beta.pdf(alpha,1.5,2))\n",
    "        log_prior += np.log(scipy.stats.beta.pdf((m-.5)/50.0,2,6))\n",
    "        LL += log_prior\n",
    "        \n",
    "    if return_trial_liks:\n",
    "        return trial_likelihoods\n",
    "    return LL*-1\n",
    "get_LL((0,-1),data.loc[(0,'scan_ctrl')],2, data.loc[(0,'scan_ctrl'),'RT'], False)"
   ]
  },
  {
   "cell_type": "code",
   "execution_count": 9,
   "metadata": {
    "collapsed": true,
    "scrolled": true
   },
   "outputs": [],
   "source": [
    "def run_sub(in_tuple):\n",
    "    sub, code, rt, bayes = in_tuple\n",
    "    sub_data = data.loc[(sub,code)].copy().sort_index()\n",
    "    nbandits = len(set(sub_data['action']))\n",
    "    out_f = data_dir + '/modeling/' + str(sub) + '_' + code \n",
    "    out_df = {'sub': sub, 'session': code}\n",
    "    \n",
    "    if rt is not None:    \n",
    "        rt = sub_data['RT'].values\n",
    "        out_f = out_f + '_rt'\n",
    "        out_df['rt'] = 'RT'\n",
    "    else:\n",
    "        out_df['rt'] = 'NoRT'\n",
    "        \n",
    "    if bayes:\n",
    "        out_f = out_f + '_bayes'\n",
    "        out_df['bayes'] = 'Bayes'\n",
    "    else:\n",
    "        out_df['bayes'] = 'NoBayes'\n",
    "    \n",
    "    params = [0,-1]\n",
    "    res = minimize(get_LL,params,args=(sub_data, nbandits, rt, bayes),options={'disp': True})\n",
    "\n",
    "    alpha = scipy.stats.logistic.cdf(res.x[0])\n",
    "    m = scipy.stats.logistic.cdf(res.x[1])*50\n",
    "    out_df['alpha'] = alpha\n",
    "    out_df['m'] = m\n",
    "    out_df['converged'] = res.success\n",
    "    \n",
    "    out_df = pd.DataFrame(out_df, index = [0])\n",
    "    out_df.to_csv(out_f + '.csv', index = False)\n",
    "    print out_f\n",
    "\n",
    "    print res\n",
    "    return str(sub)\n",
    "\n",
    "# run_sub((0, 'scan_ctrl', None, False))"
   ]
  },
  {
   "cell_type": "code",
   "execution_count": 10,
   "metadata": {
    "collapsed": true
   },
   "outputs": [],
   "source": [
    "in_tuples = []\n",
    "for x in list(set(data.index)):\n",
    "    for rt in [None, True]:\n",
    "        for bayes in [True, False]:\n",
    "            in_tuples.append((x[0],x[1],rt,bayes))"
   ]
  },
  {
   "cell_type": "code",
   "execution_count": 35,
   "metadata": {
    "scrolled": true
   },
   "outputs": [
    {
     "name": "stdout",
     "output_type": "stream",
     "text": [
      "importing numpy on engine(s)\n",
      "importing copy on engine(s)\n",
      "importing scipy on engine(s)\n",
      "importing minimize from scipy.optimize on engine(s)\n"
     ]
    }
   ],
   "source": [
    "#fit models in parallel\n",
    "dview = rc[:]\n",
    "dview.block=True\n",
    "dview.push(dict(get_LL = get_LL,\n",
    "                get_prob = get_prob,\n",
    "                update_Q = update_Q,\n",
    "               data_dir = data_dir,\n",
    "               data = data))\n",
    "dview.execute(\"import numpy as np\")\n",
    "dview.execute(\"import pandas as pd\")\n",
    "dview.execute(\"import statsmodels.api as sm\")\n",
    "with dview.sync_imports():\n",
    "    import numpy\n",
    "    import copy\n",
    "    import scipy\n",
    "    from scipy.optimize import minimize\n",
    "output1 = dview.map_sync(run_sub,in_tuples)"
   ]
  },
  {
   "cell_type": "code",
   "execution_count": 12,
   "metadata": {
    "collapsed": true
   },
   "outputs": [],
   "source": [
    "in_fs = glob.glob(data_dir + '/modeling/*csv')\n",
    "results = []\n",
    "for in_f in in_fs:\n",
    "    df = pd.read_csv(in_f)\n",
    "    results.append(df.copy())\n",
    "results = pd.concat(results)\n",
    "results = results.sort_values(by = ['rt','bayes','session','sub'])\n",
    "results = results.set_index(['rt','bayes','session'])"
   ]
  },
  {
   "cell_type": "code",
   "execution_count": 1,
   "metadata": {},
   "outputs": [
    {
     "ename": "NameError",
     "evalue": "name 'data' is not defined",
     "output_type": "error",
     "traceback": [
      "\u001b[0;31m---------------------------------------------------------------------------\u001b[0m",
      "\u001b[0;31mNameError\u001b[0m                                 Traceback (most recent call last)",
      "\u001b[0;32m<ipython-input-1-b59ef6d30aeb>\u001b[0m in \u001b[0;36m<module>\u001b[0;34m()\u001b[0m\n\u001b[1;32m     17\u001b[0m \u001b[0;31m# m1 = results.loc[('RT','Bayes','scan_ctrl'),'m'].values\u001b[0m\u001b[0;34m\u001b[0m\u001b[0;34m\u001b[0m\u001b[0m\n\u001b[1;32m     18\u001b[0m \u001b[0;31m# print scipy.stats.pearsonr(a1,m1)\u001b[0m\u001b[0;34m\u001b[0m\u001b[0;34m\u001b[0m\u001b[0m\n\u001b[0;32m---> 19\u001b[0;31m \u001b[0mdata\u001b[0m\u001b[0;34m\u001b[0m\u001b[0m\n\u001b[0m",
      "\u001b[0;31mNameError\u001b[0m: name 'data' is not defined"
     ]
    }
   ],
   "source": [
    "# a1 = results.loc[('NoRT','NoBayes','scan_ctrl'),'alpha'].values\n",
    "# m1 = results.loc[('NoRT','NoBayes','scan_ctrl'),'m'].values\n",
    "# print 'ctrl',scipy.stats.pearsonr(a1,m1)\n",
    "\n",
    "\n",
    "# a1 = results.loc[('NoRT','Bayes','scan_ctrl'),'alpha'].values\n",
    "# m1 = results.loc[('NoRT','Bayes','scan_ctrl'),'m'].values\n",
    "# print scipy.stats.pearsonr(a1,m1)\n",
    "\n",
    "\n",
    "# a1 = results.loc[('RT','NoBayes','scan_ctrl'),'alpha'].values\n",
    "# m1 = results.loc[('RT','NoBayes','scan_ctrl'),'m'].values\n",
    "# print scipy.stats.pearsonr(a1,m1)\n",
    "\n",
    "\n",
    "# a1 = results.loc[('RT','Bayes','scan_ctrl'),'alpha'].values\n",
    "# m1 = results.loc[('RT','Bayes','scan_ctrl'),'m'].values\n",
    "# print scipy.stats.pearsonr(a1,m1)"
   ]
  },
  {
   "cell_type": "code",
   "execution_count": 13,
   "metadata": {},
   "outputs": [
    {
     "name": "stdout",
     "output_type": "stream",
     "text": [
      "(0.4679429445196952, 0.0091153697810858521)\n"
     ]
    },
    {
     "data": {
      "image/png": "[encoded data removed]",
      "text/plain": [
       "<matplotlib.figure.Figure at 0x11bbd0d90>"
      ]
     },
     "metadata": {},
     "output_type": "display_data"
    }
   ],
   "source": [
    "sns.set_context('paper',font_scale = 2)\n",
    "a1 = results.loc[('NoRT','NoBayes','scan_ctrl'),'alpha'].values\n",
    "a2 = results.loc[('NoRT','NoBayes','scan_mem'),'alpha'].values\n",
    "print scipy.stats.pearsonr(a1,a2)\n",
    "diff_ctrl = abs(a1 - a2)\n",
    "sns.jointplot(a1, a2, stat_func = None)\n",
    "\n",
    "plt.savefig('./std_corr.svg', dpi = 300)"
   ]
  },
  {
   "cell_type": "code",
   "execution_count": 16,
   "metadata": {},
   "outputs": [
    {
     "data": {
      "text/plain": [
       "array([1], dtype=int32)"
      ]
     },
     "execution_count": 16,
     "metadata": {},
     "output_type": "execute_result"
    }
   ],
   "source": [
    "%reload_ext rpy2.ipython\n",
    "import warnings\n",
    "warnings.filterwarnings('ignore')\n",
    "%R require(ggplot2); require(tidyr); require(BayesianFirstAid)"
   ]
  },
  {
   "cell_type": "code",
   "execution_count": 13,
   "metadata": {
    "collapsed": true
   },
   "outputs": [],
   "source": [
    "df = pd.DataFrame({'A1_std':results.loc[('NoRT','NoBayes','scan_ctrl'),'alpha'].values,\n",
    "                   'A2_std':results.loc[('NoRT','NoBayes','scan_mem'),'alpha'].values,\n",
    "                  'A1_RT':results.loc[('RT','NoBayes','scan_ctrl'),'alpha'].values,\n",
    "                  'A2_RT':results.loc[('RT','NoBayes','scan_mem'),'alpha'].values})"
   ]
  },
  {
   "cell_type": "code",
   "execution_count": 14,
   "metadata": {},
   "outputs": [
    {
     "data": {
      "text/plain": [
       "\r",
       "  |                                                        \r",
       "  |                                                  |   0%\r",
       "  |                                                        \r",
       "  |*                                                 |   2%\r",
       "  |                                                        \r",
       "  |**                                                |   4%\r",
       "  |                                                        \r",
       "  |***                                               |   6%\r",
       "  |                                                        \r",
       "  |****                                              |   8%\r",
       "  |                                                        \r",
       "  |*****                                             |  10%\r",
       "  |                                                        \r",
       "  |******                                            |  12%\r",
       "  |                                                        \r",
       "  |*******                                           |  14%\r",
       "  |                                                        \r",
       "  |********                                          |  16%\r",
       "  |                                                        \r",
       "  |*********                                         |  18%\r",
       "  |                                                        \r",
       "  |**********                                        |  20%\r",
       "  |                                                        \r",
       "  |***********                                       |  22%\r",
       "  |                                                        \r",
       "  |************                                      |  24%\r",
       "  |                                                        \r",
       "  |*************                                     |  26%\r",
       "  |                                                        \r",
       "  |**************                                    |  28%\r",
       "  |                                                        \r",
       "  |***************                                   |  30%\r",
       "  |                                                        \r",
       "  |****************                                  |  32%\r",
       "  |                                                        \r",
       "  |*****************                                 |  34%\r",
       "  |                                                        \r",
       "  |******************                                |  36%\r",
       "  |                                                        \r",
       "  |*******************                               |  38%\r",
       "  |                                                        \r",
       "  |********************                              |  40%\r",
       "  |                                                        \r",
       "  |*********************                             |  42%\r",
       "  |                                                        \r",
       "  |**********************                            |  44%\r",
       "  |                                                        \r",
       "  |***********************                           |  46%\r",
       "  |                                                        \r",
       "  |************************                          |  48%\r",
       "  |                                                        \r",
       "  |*************************                         |  50%\r",
       "  |                                                        \r",
       "  |**************************                        |  52%\r",
       "  |                                                        \r",
       "  |***************************                       |  54%\r",
       "  |                                                        \r",
       "  |****************************                      |  56%\r",
       "  |                                                        \r",
       "  |*****************************                     |  58%\r",
       "  |                                                        \r",
       "  |******************************                    |  60%\r",
       "  |                                                        \r",
       "  |*******************************                   |  62%\r",
       "  |                                                        \r",
       "  |********************************                  |  64%\r",
       "  |                                                        \r",
       "  |*********************************                 |  66%\r",
       "  |                                                        \r",
       "  |**********************************                |  68%\r",
       "  |                                                        \r",
       "  |***********************************               |  70%\r",
       "  |                                                        \r",
       "  |************************************              |  72%\r",
       "  |                                                        \r",
       "  |*************************************             |  74%\r",
       "  |                                                        \r",
       "  |**************************************            |  76%\r",
       "  |                                                        \r",
       "  |***************************************           |  78%\r",
       "  |                                                        \r",
       "  |****************************************          |  80%\r",
       "  |                                                        \r",
       "  |*****************************************         |  82%\r",
       "  |                                                        \r",
       "  |******************************************        |  84%\r",
       "  |                                                        \r",
       "  |*******************************************       |  86%\r",
       "  |                                                        \r",
       "  |********************************************      |  88%\r",
       "  |                                                        \r",
       "  |*********************************************     |  90%\r",
       "  |                                                        \r",
       "  |**********************************************    |  92%\r",
       "  |                                                        \r",
       "  |***********************************************   |  94%\r",
       "  |                                                        \r",
       "  |************************************************  |  96%\r",
       "  |                                                        \r",
       "  |************************************************* |  98%\r",
       "  |                                                        \r",
       "  |**************************************************| 100%\n",
       "\r",
       "  |                                                        \r",
       "  |                                                  |   0%\r",
       "  |                                                        \r",
       "  |*                                                 |   2%\r",
       "  |                                                        \r",
       "  |**                                                |   4%\r",
       "  |                                                        \r",
       "  |***                                               |   6%\r",
       "  |                                                        \r",
       "  |****                                              |   8%\r",
       "  |                                                        \r",
       "  |*****                                             |  10%\r",
       "  |                                                        \r",
       "  |******                                            |  12%\r",
       "  |                                                        \r",
       "  |*******                                           |  14%\r",
       "  |                                                        \r",
       "  |********                                          |  16%\r",
       "  |                                                        \r",
       "  |*********                                         |  18%\r",
       "  |                                                        \r",
       "  |**********                                        |  20%\r",
       "  |                                                        \r",
       "  |***********                                       |  22%\r",
       "  |                                                        \r",
       "  |************                                      |  24%\r",
       "  |                                                        \r",
       "  |*************                                     |  26%\r",
       "  |                                                        \r",
       "  |**************                                    |  28%\r",
       "  |                                                        \r",
       "  |***************                                   |  30%\r",
       "  |                                                        \r",
       "  |****************                                  |  32%\r",
       "  |                                                        \r",
       "  |*****************                                 |  34%\r",
       "  |                                                        \r",
       "  |******************                                |  36%\r",
       "  |                                                        \r",
       "  |*******************                               |  38%\r",
       "  |                                                        \r",
       "  |********************                              |  40%\r",
       "  |                                                        \r",
       "  |*********************                             |  42%\r",
       "  |                                                        \r",
       "  |**********************                            |  44%\r",
       "  |                                                        \r",
       "  |***********************                           |  46%\r",
       "  |                                                        \r",
       "  |************************                          |  48%\r",
       "  |                                                        \r",
       "  |*************************                         |  50%\r",
       "  |                                                        \r",
       "  |**************************                        |  52%\r",
       "  |                                                        \r",
       "  |***************************                       |  54%\r",
       "  |                                                        \r",
       "  |****************************                      |  56%\r",
       "  |                                                        \r",
       "  |*****************************                     |  58%\r",
       "  |                                                        \r",
       "  |******************************                    |  60%\r",
       "  |                                                        \r",
       "  |*******************************                   |  62%\r",
       "  |                                                        \r",
       "  |********************************                  |  64%\r",
       "  |                                                        \r",
       "  |*********************************                 |  66%\r",
       "  |                                                        \r",
       "  |**********************************                |  68%\r",
       "  |                                                        \r",
       "  |***********************************               |  70%\r",
       "  |                                                        \r",
       "  |************************************              |  72%\r",
       "  |                                                        \r",
       "  |*************************************             |  74%\r",
       "  |                                                        \r",
       "  |**************************************            |  76%\r",
       "  |                                                        \r",
       "  |***************************************           |  78%\r",
       "  |                                                        \r",
       "  |****************************************          |  80%\r",
       "  |                                                        \r",
       "  |*****************************************         |  82%\r",
       "  |                                                        \r",
       "  |******************************************        |  84%\r",
       "  |                                                        \r",
       "  |*******************************************       |  86%\r",
       "  |                                                        \r",
       "  |********************************************      |  88%\r",
       "  |                                                        \r",
       "  |*********************************************     |  90%\r",
       "  |                                                        \r",
       "  |**********************************************    |  92%\r",
       "  |                                                        \r",
       "  |***********************************************   |  94%\r",
       "  |                                                        \r",
       "  |************************************************  |  96%\r",
       "  |                                                        \r",
       "  |************************************************* |  98%\r",
       "  |                                                        \r",
       "  |**************************************************| 100%\n",
       "[1] 0.9454\n"
      ]
     },
     "metadata": {},
     "output_type": "display_data"
    }
   ],
   "source": [
    "%%R -i df\n",
    "\n",
    "fit_std <- bayes.cor.test( ~ A1_std + A2_std, data = df)\n",
    "std_mcmc <- as.data.frame(fit_std)\n",
    "\n",
    "fit_RT <- bayes.cor.test( ~ A1_RT + A2_RT, data = df)\n",
    "RT_mcmc <- as.data.frame(fit_RT)\n",
    "\n",
    "mean(RT_mcmc$rho - std_mcmc$rho > 0)"
   ]
  },
  {
   "cell_type": "code",
   "execution_count": 14,
   "metadata": {
    "collapsed": true
   },
   "outputs": [],
   "source": [
    "df = pd.DataFrame({'A1_std':results.loc[('NoRT','NoBayes','scan_ctrl'),'alpha'].values,\n",
    "                   'A2_std':results.loc[('NoRT','NoBayes','scan_mem'),'alpha'].values,\n",
    "                  'A1_RT':results.loc[('NoRT','Bayes','scan_ctrl'),'alpha'].values,\n",
    "                  'A2_RT':results.loc[('NoRT','Bayes','scan_mem'),'alpha'].values})"
   ]
  },
  {
   "cell_type": "code",
   "execution_count": 17,
   "metadata": {},
   "outputs": [
    {
     "data": {
      "text/plain": [
       "\r",
       "  |                                                        \r",
       "  |                                                  |   0%\r",
       "  |                                                        \r",
       "  |*                                                 |   2%\r",
       "  |                                                        \r",
       "  |**                                                |   4%\r",
       "  |                                                        \r",
       "  |***                                               |   6%\r",
       "  |                                                        \r",
       "  |****                                              |   8%\r",
       "  |                                                        \r",
       "  |*****                                             |  10%\r",
       "  |                                                        \r",
       "  |******                                            |  12%\r",
       "  |                                                        \r",
       "  |*******                                           |  14%\r",
       "  |                                                        \r",
       "  |********                                          |  16%\r",
       "  |                                                        \r",
       "  |*********                                         |  18%\r",
       "  |                                                        \r",
       "  |**********                                        |  20%\r",
       "  |                                                        \r",
       "  |***********                                       |  22%\r",
       "  |                                                        \r",
       "  |************                                      |  24%\r",
       "  |                                                        \r",
       "  |*************                                     |  26%\r",
       "  |                                                        \r",
       "  |**************                                    |  28%\r",
       "  |                                                        \r",
       "  |***************                                   |  30%\r",
       "  |                                                        \r",
       "  |****************                                  |  32%\r",
       "  |                                                        \r",
       "  |*****************                                 |  34%\r",
       "  |                                                        \r",
       "  |******************                                |  36%\r",
       "  |                                                        \r",
       "  |*******************                               |  38%\r",
       "  |                                                        \r",
       "  |********************                              |  40%\r",
       "  |                                                        \r",
       "  |*********************                             |  42%\r",
       "  |                                                        \r",
       "  |**********************                            |  44%\r",
       "  |                                                        \r",
       "  |***********************                           |  46%\r",
       "  |                                                        \r",
       "  |************************                          |  48%\r",
       "  |                                                        \r",
       "  |*************************                         |  50%\r",
       "  |                                                        \r",
       "  |**************************                        |  52%\r",
       "  |                                                        \r",
       "  |***************************                       |  54%\r",
       "  |                                                        \r",
       "  |****************************                      |  56%\r",
       "  |                                                        \r",
       "  |*****************************                     |  58%\r",
       "  |                                                        \r",
       "  |******************************                    |  60%\r",
       "  |                                                        \r",
       "  |*******************************                   |  62%\r",
       "  |                                                        \r",
       "  |********************************                  |  64%\r",
       "  |                                                        \r",
       "  |*********************************                 |  66%\r",
       "  |                                                        \r",
       "  |**********************************                |  68%\r",
       "  |                                                        \r",
       "  |***********************************               |  70%\r",
       "  |                                                        \r",
       "  |************************************              |  72%\r",
       "  |                                                        \r",
       "  |*************************************             |  74%\r",
       "  |                                                        \r",
       "  |**************************************            |  76%\r",
       "  |                                                        \r",
       "  |***************************************           |  78%\r",
       "  |                                                        \r",
       "  |****************************************          |  80%\r",
       "  |                                                        \r",
       "  |*****************************************         |  82%\r",
       "  |                                                        \r",
       "  |******************************************        |  84%\r",
       "  |                                                        \r",
       "  |*******************************************       |  86%\r",
       "  |                                                        \r",
       "  |********************************************      |  88%\r",
       "  |                                                        \r",
       "  |*********************************************     |  90%\r",
       "  |                                                        \r",
       "  |**********************************************    |  92%\r",
       "  |                                                        \r",
       "  |***********************************************   |  94%\r",
       "  |                                                        \r",
       "  |************************************************  |  96%\r",
       "  |                                                        \r",
       "  |************************************************* |  98%\r",
       "  |                                                        \r",
       "  |**************************************************| 100%\n",
       "\r",
       "  |                                                        \r",
       "  |                                                  |   0%\r",
       "  |                                                        \r",
       "  |*                                                 |   2%\r",
       "  |                                                        \r",
       "  |**                                                |   4%\r",
       "  |                                                        \r",
       "  |***                                               |   6%\r",
       "  |                                                        \r",
       "  |****                                              |   8%\r",
       "  |                                                        \r",
       "  |*****                                             |  10%\r",
       "  |                                                        \r",
       "  |******                                            |  12%\r",
       "  |                                                        \r",
       "  |*******                                           |  14%\r",
       "  |                                                        \r",
       "  |********                                          |  16%\r",
       "  |                                                        \r",
       "  |*********                                         |  18%\r",
       "  |                                                        \r",
       "  |**********                                        |  20%\r",
       "  |                                                        \r",
       "  |***********                                       |  22%\r",
       "  |                                                        \r",
       "  |************                                      |  24%\r",
       "  |                                                        \r",
       "  |*************                                     |  26%\r",
       "  |                                                        \r",
       "  |**************                                    |  28%\r",
       "  |                                                        \r",
       "  |***************                                   |  30%\r",
       "  |                                                        \r",
       "  |****************                                  |  32%\r",
       "  |                                                        \r",
       "  |*****************                                 |  34%\r",
       "  |                                                        \r",
       "  |******************                                |  36%\r",
       "  |                                                        \r",
       "  |*******************                               |  38%\r",
       "  |                                                        \r",
       "  |********************                              |  40%\r",
       "  |                                                        \r",
       "  |*********************                             |  42%\r",
       "  |                                                        \r",
       "  |**********************                            |  44%\r",
       "  |                                                        \r",
       "  |***********************                           |  46%\r",
       "  |                                                        \r",
       "  |************************                          |  48%\r",
       "  |                                                        \r",
       "  |*************************                         |  50%\r",
       "  |                                                        \r",
       "  |**************************                        |  52%\r",
       "  |                                                        \r",
       "  |***************************                       |  54%\r",
       "  |                                                        \r",
       "  |****************************                      |  56%\r",
       "  |                                                        \r",
       "  |*****************************                     |  58%\r",
       "  |                                                        \r",
       "  |******************************                    |  60%\r",
       "  |                                                        \r",
       "  |*******************************                   |  62%\r",
       "  |                                                        \r",
       "  |********************************                  |  64%\r",
       "  |                                                        \r",
       "  |*********************************                 |  66%\r",
       "  |                                                        \r",
       "  |**********************************                |  68%\r",
       "  |                                                        \r",
       "  |***********************************               |  70%\r",
       "  |                                                        \r",
       "  |************************************              |  72%\r",
       "  |                                                        \r",
       "  |*************************************             |  74%\r",
       "  |                                                        \r",
       "  |**************************************            |  76%\r",
       "  |                                                        \r",
       "  |***************************************           |  78%\r",
       "  |                                                        \r",
       "  |****************************************          |  80%\r",
       "  |                                                        \r",
       "  |*****************************************         |  82%\r",
       "  |                                                        \r",
       "  |******************************************        |  84%\r",
       "  |                                                        \r",
       "  |*******************************************       |  86%\r",
       "  |                                                        \r",
       "  |********************************************      |  88%\r",
       "  |                                                        \r",
       "  |*********************************************     |  90%\r",
       "  |                                                        \r",
       "  |**********************************************    |  92%\r",
       "  |                                                        \r",
       "  |***********************************************   |  94%\r",
       "  |                                                        \r",
       "  |************************************************  |  96%\r",
       "  |                                                        \r",
       "  |************************************************* |  98%\r",
       "  |                                                        \r",
       "  |**************************************************| 100%\n",
       "[1] 0.7374\n"
      ]
     },
     "metadata": {},
     "output_type": "display_data"
    }
   ],
   "source": [
    "%%R -i df\n",
    "\n",
    "fit_std <- bayes.cor.test( ~ A1_std + A2_std, data = df)\n",
    "std_mcmc <- as.data.frame(fit_std)\n",
    "\n",
    "fit_RT <- bayes.cor.test( ~ A1_RT + A2_RT, data = df)\n",
    "RT_mcmc <- as.data.frame(fit_RT)\n",
    "\n",
    "mean(RT_mcmc$rho - std_mcmc$rho > 0)"
   ]
  },
  {
   "cell_type": "code",
   "execution_count": 22,
   "metadata": {},
   "outputs": [
    {
     "name": "stdout",
     "output_type": "stream",
     "text": [
      "(0.59334464120702046, 0.0005483761688178584)\n"
     ]
    },
    {
     "data": {
      "text/plain": [
       "<matplotlib.collections.PathCollection at 0x11bd842d0>"
      ]
     },
     "execution_count": 22,
     "metadata": {},
     "output_type": "execute_result"
    },
    {
     "data": {
      "image/png": "[encoded data removed]",
      "text/plain": [
       "<matplotlib.figure.Figure at 0x11bd8dc50>"
      ]
     },
     "metadata": {},
     "output_type": "display_data"
    }
   ],
   "source": [
    "a1 = results.loc[('NoRT','Bayes','scan_ctrl'),'alpha'].values\n",
    "a2 = results.loc[('NoRT','Bayes','scan_mem'),'alpha'].values\n",
    "\n",
    "print scipy.stats.pearsonr(a1,a2)\n",
    "plt.scatter(a1,a2)"
   ]
  },
  {
   "cell_type": "code",
   "execution_count": 18,
   "metadata": {},
   "outputs": [
    {
     "name": "stdout",
     "output_type": "stream",
     "text": [
      "(0.6034708763829969, 0.00041497236580488448)\n"
     ]
    }
   ],
   "source": [
    "a1 = results.loc[('RT','Bayes','scan_ctrl'),'alpha'].values\n",
    "a2 = results.loc[('RT','Bayes','scan_mem'),'alpha'].values\n",
    "\n",
    "print scipy.stats.pearsonr(a1,a2)\n",
    "# plt.scatter(a1,a2)\n"
   ]
  },
  {
   "cell_type": "code",
   "execution_count": 29,
   "metadata": {},
   "outputs": [
    {
     "name": "stdout",
     "output_type": "stream",
     "text": [
      "(0.74541936205804959, 2.2871877236295241e-06)\n"
     ]
    },
    {
     "data": {
      "image/png": "[encoded data removed]",
      "text/plain": [
       "<matplotlib.figure.Figure at 0x1183549d0>"
      ]
     },
     "metadata": {},
     "output_type": "display_data"
    }
   ],
   "source": [
    "a1 = results.loc[('RT','NoBayes','scan_ctrl'),'alpha'].values\n",
    "a2 = results.loc[('RT','NoBayes','scan_mem'),'alpha'].values\n",
    "\n",
    "print scipy.stats.pearsonr(a1,a2)\n",
    "diff_rt = abs(a1 - a2)\n",
    "sns.jointplot(a1, a2, stat_func = None, )\n",
    "plt.savefig('./RT_corr.svg', dpi = 300)"
   ]
  },
  {
   "cell_type": "code",
   "execution_count": 89,
   "metadata": {
    "collapsed": true
   },
   "outputs": [],
   "source": [
    "#load behavioral correlate\n",
    "fname = 'jneuro14_inddiff.mat'\n",
    "mem = scipy.io.loadmat(data_dir + '/' + fname)\n",
    "\n",
    "summary_data = {'sub':[],'mem':[],'session':[]}\n",
    "ids = ['jneuro14_memcorr','jneuro14_behmemcorr']\n",
    "codes = ['scan_mem','behav_mem']\n",
    "\n",
    "for index,code in zip(ids, codes):\n",
    "    nsubs = mem[index].shape[0]\n",
    "    for i in range(nsubs):\n",
    "        summary_data['sub'].append(int(i))\n",
    "        summary_data['mem'].append(float(mem[index][i][0]))\n",
    "        summary_data['session'].append(code)\n",
    "summary_data = pd.DataFrame(summary_data)"
   ]
  },
  {
   "cell_type": "code",
   "execution_count": 90,
   "metadata": {
    "collapsed": true
   },
   "outputs": [],
   "source": [
    "mem = results.reset_index()\n",
    "mem = mem[mem['session'] != 'scan_ctrl'].reset_index()\n",
    "mem = pd.merge(summary_data,\n",
    "        mem,\n",
    "        how = 'left',\n",
    "        on = ['sub','session'])\n",
    "mem = mem.dropna()\n",
    "mem = mem.set_index(['rt','bayes'])\n"
   ]
  },
  {
   "cell_type": "code",
   "execution_count": 91,
   "metadata": {},
   "outputs": [
    {
     "name": "stdout",
     "output_type": "stream",
     "text": [
      "(-0.25218606474709054, 0.06078522613025962)\n"
     ]
    }
   ],
   "source": [
    "a = mem.loc[('NoRT','NoBayes'),'alpha'].values\n",
    "m = mem.loc[('NoRT','NoBayes'),'mem'].values\n",
    "# print len(a)\n",
    "print scipy.stats.pearsonr(a,m)\n",
    "# plt.scatter(a,m)"
   ]
  },
  {
   "cell_type": "code",
   "execution_count": 92,
   "metadata": {},
   "outputs": [
    {
     "data": {
      "text/plain": [
       "(-0.08416286916473277, 0.53742746246611195)"
      ]
     },
     "execution_count": 92,
     "metadata": {},
     "output_type": "execute_result"
    }
   ],
   "source": [
    "a = mem.loc[('RT','NoBayes'),'alpha'].values\n",
    "m = mem.loc[('RT','NoBayes'),'mem'].values\n",
    "scipy.stats.pearsonr(a,m)\n",
    "# plt.scatter(a,m)"
   ]
  },
  {
   "cell_type": "code",
   "execution_count": 93,
   "metadata": {},
   "outputs": [
    {
     "data": {
      "text/plain": [
       "(-0.29855561724645097, 0.02541479217660873)"
      ]
     },
     "execution_count": 93,
     "metadata": {},
     "output_type": "execute_result"
    }
   ],
   "source": [
    "a = mem.loc[('NoRT','Bayes'),'alpha'].values\n",
    "m = mem.loc[('NoRT','Bayes'),'mem'].values\n",
    "scipy.stats.pearsonr(a,m)\n",
    "# plt.scatter(a,m)"
   ]
  },
  {
   "cell_type": "code",
   "execution_count": 94,
   "metadata": {},
   "outputs": [
    {
     "name": "stdout",
     "output_type": "stream",
     "text": [
      "(-0.30400351060217429, 0.022735605063414641)\n"
     ]
    }
   ],
   "source": [
    "a = mem.loc[('RT','Bayes'),'alpha'].values\n",
    "m = mem.loc[('RT','Bayes'),'mem'].values\n",
    "print scipy.stats.pearsonr(a,m)\n",
    "# plt.scatter(a,m)"
   ]
  },
  {
   "cell_type": "code",
   "execution_count": 95,
   "metadata": {},
   "outputs": [
    {
     "name": "stdout",
     "output_type": "stream",
     "text": [
      "ctrl (-0.67997982898569342, 8.2343347835698624e-09)\n",
      "(-0.46809713571067124, 0.00027475016329390594)\n",
      "(-0.63017643383321675, 1.9470140688603128e-07)\n",
      "(-0.47552531469144349, 0.00021243828212588926)\n"
     ]
    }
   ],
   "source": [
    "a1 = mem.loc[('NoRT','NoBayes'),'alpha'].values\n",
    "m1 = mem.loc[('NoRT','NoBayes'),'m'].values\n",
    "print 'ctrl',scipy.stats.pearsonr(a1,m1)\n",
    "\n",
    "a1 = mem.loc[('NoRT','Bayes'),'alpha'].values\n",
    "m1 = mem.loc[('NoRT','Bayes'),'m'].values\n",
    "print scipy.stats.pearsonr(a1,m1)\n",
    "\n",
    "\n",
    "a1 = mem.loc[('RT','NoBayes'),'alpha'].values\n",
    "m1 = mem.loc[('RT','NoBayes'),'m'].values\n",
    "print scipy.stats.pearsonr(a1,m1)\n",
    "\n",
    "\n",
    "a1 = mem.loc[('RT','Bayes'),'alpha'].values\n",
    "m1 = mem.loc[('RT','Bayes'),'m'].values\n",
    "print scipy.stats.pearsonr(a1,m1)\n"
   ]
  },
  {
   "cell_type": "code",
   "execution_count": 96,
   "metadata": {},
   "outputs": [
    {
     "data": {
      "text/plain": [
       "(56,)"
      ]
     },
     "execution_count": 96,
     "metadata": {},
     "output_type": "execute_result"
    }
   ],
   "source": [
    "a1.shape"
   ]
  },
  {
   "cell_type": "code",
   "execution_count": 27,
   "metadata": {
    "collapsed": true
   },
   "outputs": [],
   "source": [
    "df = pd.DataFrame({'A1_std': mem.loc[('NoRT','NoBayes'),'alpha'].values,\n",
    "                   'A2_std': mem.loc[('NoRT','NoBayes'),'m'].values,\n",
    "                  'A1_RT': mem.loc[('NoRT','Bayes'),'alpha'].values,\n",
    "                  'A2_RT': mem.loc[('NoRT','Bayes'),'m'].values})"
   ]
  },
  {
   "cell_type": "code",
   "execution_count": 28,
   "metadata": {},
   "outputs": [
    {
     "data": {
      "text/plain": [
       "\r",
       "  |                                                        \r",
       "  |                                                  |   0%\r",
       "  |                                                        \r",
       "  |*                                                 |   2%\r",
       "  |                                                        \r",
       "  |**                                                |   4%\r",
       "  |                                                        \r",
       "  |***                                               |   6%\r",
       "  |                                                        \r",
       "  |****                                              |   8%\r",
       "  |                                                        \r",
       "  |*****                                             |  10%\r",
       "  |                                                        \r",
       "  |******                                            |  12%\r",
       "  |                                                        \r",
       "  |*******                                           |  14%\r",
       "  |                                                        \r",
       "  |********                                          |  16%\r",
       "  |                                                        \r",
       "  |*********                                         |  18%\r",
       "  |                                                        \r",
       "  |**********                                        |  20%\r",
       "  |                                                        \r",
       "  |***********                                       |  22%\r",
       "  |                                                        \r",
       "  |************                                      |  24%\r",
       "  |                                                        \r",
       "  |*************                                     |  26%\r",
       "  |                                                        \r",
       "  |**************                                    |  28%\r",
       "  |                                                        \r",
       "  |***************                                   |  30%\r",
       "  |                                                        \r",
       "  |****************                                  |  32%\r",
       "  |                                                        \r",
       "  |*****************                                 |  34%\r",
       "  |                                                        \r",
       "  |******************                                |  36%\r",
       "  |                                                        \r",
       "  |*******************                               |  38%\r",
       "  |                                                        \r",
       "  |********************                              |  40%\r",
       "  |                                                        \r",
       "  |*********************                             |  42%\r",
       "  |                                                        \r",
       "  |**********************                            |  44%\r",
       "  |                                                        \r",
       "  |***********************                           |  46%\r",
       "  |                                                        \r",
       "  |************************                          |  48%\r",
       "  |                                                        \r",
       "  |*************************                         |  50%\r",
       "  |                                                        \r",
       "  |**************************                        |  52%\r",
       "  |                                                        \r",
       "  |***************************                       |  54%\r",
       "  |                                                        \r",
       "  |****************************                      |  56%\r",
       "  |                                                        \r",
       "  |*****************************                     |  58%\r",
       "  |                                                        \r",
       "  |******************************                    |  60%\r",
       "  |                                                        \r",
       "  |*******************************                   |  62%\r",
       "  |                                                        \r",
       "  |********************************                  |  64%\r",
       "  |                                                        \r",
       "  |*********************************                 |  66%\r",
       "  |                                                        \r",
       "  |**********************************                |  68%\r",
       "  |                                                        \r",
       "  |***********************************               |  70%\r",
       "  |                                                        \r",
       "  |************************************              |  72%\r",
       "  |                                                        \r",
       "  |*************************************             |  74%\r",
       "  |                                                        \r",
       "  |**************************************            |  76%\r",
       "  |                                                        \r",
       "  |***************************************           |  78%\r",
       "  |                                                        \r",
       "  |****************************************          |  80%\r",
       "  |                                                        \r",
       "  |*****************************************         |  82%\r",
       "  |                                                        \r",
       "  |******************************************        |  84%\r",
       "  |                                                        \r",
       "  |*******************************************       |  86%\r",
       "  |                                                        \r",
       "  |********************************************      |  88%\r",
       "  |                                                        \r",
       "  |*********************************************     |  90%\r",
       "  |                                                        \r",
       "  |**********************************************    |  92%\r",
       "  |                                                        \r",
       "  |***********************************************   |  94%\r",
       "  |                                                        \r",
       "  |************************************************  |  96%\r",
       "  |                                                        \r",
       "  |************************************************* |  98%\r",
       "  |                                                        \r",
       "  |**************************************************| 100%\n",
       "\r",
       "  |                                                        \r",
       "  |                                                  |   0%\r",
       "  |                                                        \r",
       "  |*                                                 |   2%\r",
       "  |                                                        \r",
       "  |**                                                |   4%\r",
       "  |                                                        \r",
       "  |***                                               |   6%\r",
       "  |                                                        \r",
       "  |****                                              |   8%\r",
       "  |                                                        \r",
       "  |*****                                             |  10%\r",
       "  |                                                        \r",
       "  |******                                            |  12%\r",
       "  |                                                        \r",
       "  |*******                                           |  14%\r",
       "  |                                                        \r",
       "  |********                                          |  16%\r",
       "  |                                                        \r",
       "  |*********                                         |  18%\r",
       "  |                                                        \r",
       "  |**********                                        |  20%\r",
       "  |                                                        \r",
       "  |***********                                       |  22%\r",
       "  |                                                        \r",
       "  |************                                      |  24%\r",
       "  |                                                        \r",
       "  |*************                                     |  26%\r",
       "  |                                                        \r",
       "  |**************                                    |  28%\r",
       "  |                                                        \r",
       "  |***************                                   |  30%\r",
       "  |                                                        \r",
       "  |****************                                  |  32%\r",
       "  |                                                        \r",
       "  |*****************                                 |  34%\r",
       "  |                                                        \r",
       "  |******************                                |  36%\r",
       "  |                                                        \r",
       "  |*******************                               |  38%\r",
       "  |                                                        \r",
       "  |********************                              |  40%\r",
       "  |                                                        \r",
       "  |*********************                             |  42%\r",
       "  |                                                        \r",
       "  |**********************                            |  44%\r",
       "  |                                                        \r",
       "  |***********************                           |  46%\r",
       "  |                                                        \r",
       "  |************************                          |  48%\r",
       "  |                                                        \r",
       "  |*************************                         |  50%\r",
       "  |                                                        \r",
       "  |**************************                        |  52%\r",
       "  |                                                        \r",
       "  |***************************                       |  54%\r",
       "  |                                                        \r",
       "  |****************************                      |  56%\r",
       "  |                                                        \r",
       "  |*****************************                     |  58%\r",
       "  |                                                        \r",
       "  |******************************                    |  60%\r",
       "  |                                                        \r",
       "  |*******************************                   |  62%\r",
       "  |                                                        \r",
       "  |********************************                  |  64%\r",
       "  |                                                        \r",
       "  |*********************************                 |  66%\r",
       "  |                                                        \r",
       "  |**********************************                |  68%\r",
       "  |                                                        \r",
       "  |***********************************               |  70%\r",
       "  |                                                        \r",
       "  |************************************              |  72%\r",
       "  |                                                        \r",
       "  |*************************************             |  74%\r",
       "  |                                                        \r",
       "  |**************************************            |  76%\r",
       "  |                                                        \r",
       "  |***************************************           |  78%\r",
       "  |                                                        \r",
       "  |****************************************          |  80%\r",
       "  |                                                        \r",
       "  |*****************************************         |  82%\r",
       "  |                                                        \r",
       "  |******************************************        |  84%\r",
       "  |                                                        \r",
       "  |*******************************************       |  86%\r",
       "  |                                                        \r",
       "  |********************************************      |  88%\r",
       "  |                                                        \r",
       "  |*********************************************     |  90%\r",
       "  |                                                        \r",
       "  |**********************************************    |  92%\r",
       "  |                                                        \r",
       "  |***********************************************   |  94%\r",
       "  |                                                        \r",
       "  |************************************************  |  96%\r",
       "  |                                                        \r",
       "  |************************************************* |  98%\r",
       "  |                                                        \r",
       "  |**************************************************| 100%\n",
       "[1] 0.366\n"
      ]
     },
     "metadata": {},
     "output_type": "display_data"
    }
   ],
   "source": [
    "%%R -i df\n",
    "\n",
    "fit_std <- bayes.cor.test( ~ A1_std + A2_std, data = df)\n",
    "std_mcmc <- as.data.frame(fit_std)\n",
    "\n",
    "fit_RT <- bayes.cor.test( ~ A1_RT + A2_RT, data = df)\n",
    "RT_mcmc <- as.data.frame(fit_RT)\n",
    "\n",
    "mean(RT_mcmc$rho - std_mcmc$rho < 0)"
   ]
  }
 ],
 "metadata": {
  "kernelspec": {
   "display_name": "Python 2",
   "language": "python",
   "name": "python2"
  },
  "language_info": {
   "codemirror_mode": {
    "name": "ipython",
    "version": 2
   },
   "file_extension": ".py",
   "mimetype": "text/x-python",
   "name": "python",
   "nbconvert_exporter": "python",
   "pygments_lexer": "ipython2",
   "version": "2.7.13"
  }
 },
 "nbformat": 4,
 "nbformat_minor": 1
}
